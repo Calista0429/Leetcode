{
 "cells": [
  {
   "cell_type": "code",
   "execution_count": 1,
   "id": "a8b80002-615a-4ff8-aa80-689a9b263968",
   "metadata": {
    "tags": []
   },
   "outputs": [],
   "source": [
    "numRows = 5\n",
    "Output = [[1],[1,1],[1,2,1],[1,3,3,1],[1,4,6,4,1]]"
   ]
  },
  {
   "cell_type": "code",
   "execution_count": 9,
   "id": "dba68ac2-4952-4336-86bf-3c52b30d3541",
   "metadata": {
    "tags": []
   },
   "outputs": [],
   "source": [
    "res = [[1]]\n",
    "\n",
    "for _ in range(numRows-1):\n",
    "    dummy_row = [0] + res[-1] + [0]\n",
    "    row = []\n",
    "    for i in range(len(res[-1]) + 1):\n",
    "        row.append(dummy_row[i] + dummy_row[i+1])\n",
    "    res.append(row)"
   ]
  },
  {
   "cell_type": "code",
   "execution_count": 10,
   "id": "023ef9d0-7d09-4d3f-be13-96a02316e6f2",
   "metadata": {
    "tags": []
   },
   "outputs": [
    {
     "data": {
      "text/plain": [
       "[[1], [1, 1], [1, 2, 1], [1, 3, 3, 1], [1, 4, 6, 4, 1]]"
      ]
     },
     "execution_count": 10,
     "metadata": {},
     "output_type": "execute_result"
    }
   ],
   "source": [
    "res"
   ]
  }
 ],
 "metadata": {
  "kernelspec": {
   "display_name": "Python 3 (ipykernel)",
   "language": "python",
   "name": "python3"
  },
  "language_info": {
   "codemirror_mode": {
    "name": "ipython",
    "version": 3
   },
   "file_extension": ".py",
   "mimetype": "text/x-python",
   "name": "python",
   "nbconvert_exporter": "python",
   "pygments_lexer": "ipython3",
   "version": "3.7.11"
  }
 },
 "nbformat": 4,
 "nbformat_minor": 5
}
