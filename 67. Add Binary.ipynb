{
 "cells": [
  {
   "cell_type": "code",
   "execution_count": 18,
   "id": "84ccca3c-8063-4dc8-82ce-d8b7789ed5a2",
   "metadata": {
    "tags": []
   },
   "outputs": [],
   "source": [
    "astr, bstr = \"11\", \"1\""
   ]
  },
  {
   "cell_type": "code",
   "execution_count": 22,
   "id": "b3e231fe-ac4b-4605-a10b-04c23cf13b00",
   "metadata": {
    "tags": []
   },
   "outputs": [
    {
     "data": {
      "text/plain": [
       "'100'"
      ]
     },
     "execution_count": 22,
     "metadata": {},
     "output_type": "execute_result"
    }
   ],
   "source": [
    "idxA = len(astr) - 1\n",
    "idxB = len(bstr) - 1\n",
    "res = []\n",
    "carry = 0\n",
    "\n",
    "while idxA >= 0 or idxB >= 0 or carry == 1:\n",
    "    if idxA >= 0:\n",
    "        carry += int(astr[idxA])\n",
    "        idxA -= 1\n",
    "    if idxB >= 0:\n",
    "        carry += int(bstr[idxB])\n",
    "        idxB -= 1\n",
    "    res.append(str(carry%2)) #模运算获得位数\n",
    "    carry = carry // 2 #余运算获得carry\n",
    "\"\".join(res[::-1])"
   ]
  },
  {
   "cell_type": "code",
   "execution_count": null,
   "id": "b23e2a13-2f6b-4ca0-9c30-fb0804e84cd3",
   "metadata": {},
   "outputs": [],
   "source": []
  }
 ],
 "metadata": {
  "kernelspec": {
   "display_name": "Python 3 (ipykernel)",
   "language": "python",
   "name": "python3"
  },
  "language_info": {
   "codemirror_mode": {
    "name": "ipython",
    "version": 3
   },
   "file_extension": ".py",
   "mimetype": "text/x-python",
   "name": "python",
   "nbconvert_exporter": "python",
   "pygments_lexer": "ipython3",
   "version": "3.7.11"
  }
 },
 "nbformat": 4,
 "nbformat_minor": 5
}
