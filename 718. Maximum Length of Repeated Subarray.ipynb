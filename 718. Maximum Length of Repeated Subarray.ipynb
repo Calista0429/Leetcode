{
 "cells": [
  {
   "cell_type": "code",
   "execution_count": 1,
   "id": "6b9499df-137d-4e30-9416-e4bd07655733",
   "metadata": {},
   "outputs": [],
   "source": [
    "nums1 = [1,2,3,2,1]\n",
    "nums2 = [3,2,1,4,7]"
   ]
  },
  {
   "cell_type": "code",
   "execution_count": 2,
   "id": "3034bab9-a73a-4e41-8538-0fd04722b21c",
   "metadata": {},
   "outputs": [],
   "source": [
    "def findLength(nums1, nums2):\n",
    "    \"\"\"\n",
    "    :type nums1: List[int]\n",
    "    :type nums2: List[int]\n",
    "    :rtype: int\n",
    "    \"\"\"\n",
    "    subarray = []\n",
    "    if nums1 == nums2:\n",
    "        return nums1\n",
    "    for i in nums1:\n",
    "        if i in nums2 and i not in subarray:\n",
    "            subarray.append(i)\n",
    "    \n",
    "    return subarray"
   ]
  },
  {
   "cell_type": "code",
   "execution_count": 3,
   "id": "6b9ed0e7-376d-4aa4-8f85-ece2d7f3acf2",
   "metadata": {},
   "outputs": [
    {
     "data": {
      "text/plain": [
       "[1, 2, 3]"
      ]
     },
     "execution_count": 3,
     "metadata": {},
     "output_type": "execute_result"
    }
   ],
   "source": [
    "findLength(nums1, nums2)"
   ]
  },
  {
   "cell_type": "code",
   "execution_count": 5,
   "id": "848ab34a-8e40-4b38-938b-ce209637868f",
   "metadata": {},
   "outputs": [
    {
     "data": {
      "text/plain": [
       "True"
      ]
     },
     "execution_count": 5,
     "metadata": {},
     "output_type": "execute_result"
    }
   ],
   "source": [
    "[0,0,0] == [0,0,0]"
   ]
  },
  {
   "cell_type": "code",
   "execution_count": 6,
   "id": "ee7a9267-5009-4e54-8d67-f918965a9a8c",
   "metadata": {},
   "outputs": [],
   "source": [
    "#动态规划，通过填表的方式，在上一次循环的结尾处不断加1，直到遍历结束\n",
    "\n",
    "def findLength(nums1, nums2):\n",
    "    m, n = len(nums1), len(nums2)\n",
    "    dp = [[0] * (n + 1) for _ in range(m + 1)]  # 创建二维数组\n",
    "    res = 0\n",
    "\n",
    "    for i in range(1, m + 1):\n",
    "        for j in range(1, n + 1):\n",
    "            if nums1[i - 1] == nums2[j - 1]:\n",
    "                dp[i][j] = dp[i - 1][j - 1] + 1\n",
    "                res = max(res, dp[i][j])\n",
    "    return res"
   ]
  },
  {
   "cell_type": "code",
   "execution_count": 7,
   "id": "36a0df0c-ce50-4c24-a243-1d5eb0082426",
   "metadata": {},
   "outputs": [
    {
     "data": {
      "text/plain": [
       "[[0, 0, 0, 0, 0, 0],\n",
       " [0, 0, 0, 0, 0, 0],\n",
       " [0, 0, 0, 0, 0, 0],\n",
       " [0, 0, 0, 0, 0, 0],\n",
       " [0, 0, 0, 0, 0, 0],\n",
       " [0, 0, 0, 0, 0, 0]]"
      ]
     },
     "execution_count": 7,
     "metadata": {},
     "output_type": "execute_result"
    }
   ],
   "source": [
    "n = 5\n",
    "m = 5\n",
    "[[0] * (n + 1) for _ in range(m + 1)]"
   ]
  },
  {
   "cell_type": "code",
   "execution_count": null,
   "id": "fadad284-ae01-48f6-a3c0-6426277aab9b",
   "metadata": {},
   "outputs": [],
   "source": []
  }
 ],
 "metadata": {
  "kernelspec": {
   "display_name": "Python 3 (ipykernel)",
   "language": "python",
   "name": "python3"
  },
  "language_info": {
   "codemirror_mode": {
    "name": "ipython",
    "version": 3
   },
   "file_extension": ".py",
   "mimetype": "text/x-python",
   "name": "python",
   "nbconvert_exporter": "python",
   "pygments_lexer": "ipython3",
   "version": "3.9.18"
  }
 },
 "nbformat": 4,
 "nbformat_minor": 5
}
