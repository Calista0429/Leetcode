{
 "cells": [
  {
   "cell_type": "code",
   "execution_count": 4,
   "id": "54daffc2-fd4f-424c-80e1-ad3c9be281a7",
   "metadata": {},
   "outputs": [],
   "source": [
    "nums1 = [1,2]\n",
    "nums2 = [3,4]"
   ]
  },
  {
   "cell_type": "code",
   "execution_count": 2,
   "id": "9ee43568-adf2-4d9d-96f8-7ea42280a82d",
   "metadata": {},
   "outputs": [
    {
     "ename": "SyntaxError",
     "evalue": "invalid syntax (2298820098.py, line 16)",
     "output_type": "error",
     "traceback": [
      "\u001b[0;36m  Input \u001b[0;32mIn [2]\u001b[0;36m\u001b[0m\n\u001b[0;31m    else:\u001b[0m\n\u001b[0m    ^\u001b[0m\n\u001b[0;31mSyntaxError\u001b[0m\u001b[0;31m:\u001b[0m invalid syntax\n"
     ]
    }
   ],
   "source": [
    "class Solution(object):\n",
    "    def findMedianSortedArrays(self, nums1, nums2):\n",
    "        \"\"\"\n",
    "        :type nums1: List[int]\n",
    "        :type nums2: List[int]\n",
    "        :rtype: float\n",
    "        \"\"\"\n",
    "        merge_array= []\n",
    "        for i in range(len(nums1)):\n",
    "            merge_array.append(i)\n",
    "        for j in range(len(nums2)):\n",
    "            merge_array.append(j)\n",
    "        merge_array = sorted(merge_array)\n",
    "        if len(merge_array) % 2 == 0:\n",
    "             median = (merge_array[len(merge_array) / 2 ] + merge_array[((len(merge_array) / 2) -1) /2\n",
    "        else:\n",
    "                                                                        \n",
    "                                                                        \n",
    "            median = merge_array[(len(merge_array) / 2) + 1 ]\n",
    "        return sorted(merge_array)"
   ]
  },
  {
   "cell_type": "code",
   "execution_count": 13,
   "id": "af50f163-27b3-4c41-b3b5-c8f3eaeb4b17",
   "metadata": {},
   "outputs": [],
   "source": [
    "merge_array= []\n",
    "for i in range(len(nums1)):\n",
    "    merge_array.append(nums1[i])\n",
    "for j in range(len(nums2)):\n",
    "    merge_array.append(nums2[j])\n",
    "merge_array = sorted(merge_array)"
   ]
  },
  {
   "cell_type": "code",
   "execution_count": 15,
   "id": "baf19e28-8369-4c61-9628-f7d554a34a58",
   "metadata": {},
   "outputs": [],
   "source": [
    "if len(merge_array) % 2 == 0:    \n",
    "    median = (merge_array[len(merge_array) // 2] + merge_array[(len(merge_array) // 2) - 1]) / 2\n",
    "else: \n",
    "    median = merge_array[len(merge_array) // 2]`"
   ]
  },
  {
   "cell_type": "code",
   "execution_count": 16,
   "id": "a4a84386-4fd1-4f6f-9ab3-b2b28e269551",
   "metadata": {},
   "outputs": [
    {
     "data": {
      "text/plain": [
       "2.5"
      ]
     },
     "execution_count": 16,
     "metadata": {},
     "output_type": "execute_result"
    }
   ],
   "source": [
    "median"
   ]
  },
  {
   "cell_type": "code",
   "execution_count": 14,
   "id": "cb69aaf7-4630-4c02-916a-4719c2c1b413",
   "metadata": {},
   "outputs": [
    {
     "data": {
      "text/plain": [
       "[1, 2, 3, 4]"
      ]
     },
     "execution_count": 14,
     "metadata": {},
     "output_type": "execute_result"
    }
   ],
   "source": [
    "merge_array"
   ]
  },
  {
   "cell_type": "code",
   "execution_count": 18,
   "id": "97409fe7-b12f-439a-a499-ba6097a52a63",
   "metadata": {},
   "outputs": [
    {
     "data": {
      "text/plain": [
       "2"
      ]
     },
     "execution_count": 18,
     "metadata": {},
     "output_type": "execute_result"
    }
   ],
   "source": [
    "4 // 2 "
   ]
  },
  {
   "cell_type": "code",
   "execution_count": 19,
   "id": "a3cc34ed-7e40-4d3b-8629-a13b1f2f288c",
   "metadata": {},
   "outputs": [],
   "source": [
    "merge_array= []\n",
    "for i in range(len(nums1)):\n",
    "    merge_array.append(nums1[i])\n",
    "for j in range(len(nums2)):\n",
    "    merge_array.append(nums2[j])\n",
    "merge_array = sorted(merge_array)\n",
    "if len(merge_array) % 2 == 0:    \n",
    "    median = (merge_array[len(merge_array) // 2] + merge_array[(len(merge_array) // 2) - 1]) / 2\n",
    "else: \n",
    "    median = merge_array[len(merge_array) // 2]"
   ]
  },
  {
   "cell_type": "code",
   "execution_count": 20,
   "id": "bf5475f5-3a65-4522-bfc2-b3f6afa65a39",
   "metadata": {},
   "outputs": [
    {
     "data": {
      "text/plain": [
       "2.5"
      ]
     },
     "execution_count": 20,
     "metadata": {},
     "output_type": "execute_result"
    }
   ],
   "source": [
    "median"
   ]
  },
  {
   "cell_type": "markdown",
   "id": "d42571b2-e664-4832-aada-2b3fdca5b722",
   "metadata": {},
   "source": [
    "### 优化后"
   ]
  },
  {
   "cell_type": "code",
   "execution_count": 21,
   "id": "884bc07f-1239-4d7c-a65a-4a3a24c01ec2",
   "metadata": {},
   "outputs": [],
   "source": [
    "merge_array = nums1 + nums2\n",
    "merge_array.sort()"
   ]
  },
  {
   "cell_type": "code",
   "execution_count": 22,
   "id": "f2aa94d5-8fb5-42c5-ad28-ece99efb4e1f",
   "metadata": {},
   "outputs": [],
   "source": [
    "n = len(merge_array)\n",
    "mid = n // 2"
   ]
  },
  {
   "cell_type": "code",
   "execution_count": 37,
   "id": "a5b772f9-d31f-4e6e-bda9-3c9c99627911",
   "metadata": {},
   "outputs": [],
   "source": [
    "if n % 2 == 0:\n",
    "    median = (merge_array[mid] + merge_array[mid - 1]) / 2\n",
    "else:\n",
    "    median = merge_array[mid]        "
   ]
  },
  {
   "cell_type": "code",
   "execution_count": 38,
   "id": "3a2aaf70-4f0e-4c15-b21b-e89afc280a34",
   "metadata": {},
   "outputs": [
    {
     "data": {
      "text/plain": [
       "2.5"
      ]
     },
     "execution_count": 38,
     "metadata": {},
     "output_type": "execute_result"
    }
   ],
   "source": [
    "median"
   ]
  },
  {
   "cell_type": "code",
   "execution_count": 31,
   "id": "fc217b1e-35c6-433c-8d63-d703f4c88439",
   "metadata": {},
   "outputs": [
    {
     "data": {
      "text/plain": [
       "[1, 2, 3, 4]"
      ]
     },
     "execution_count": 31,
     "metadata": {},
     "output_type": "execute_result"
    }
   ],
   "source": [
    "merge_array"
   ]
  }
 ],
 "metadata": {
  "kernelspec": {
   "display_name": "Python 3 (ipykernel)",
   "language": "python",
   "name": "python3"
  },
  "language_info": {
   "codemirror_mode": {
    "name": "ipython",
    "version": 3
   },
   "file_extension": ".py",
   "mimetype": "text/x-python",
   "name": "python",
   "nbconvert_exporter": "python",
   "pygments_lexer": "ipython3",
   "version": "3.9.18"
  }
 },
 "nbformat": 4,
 "nbformat_minor": 5
}
