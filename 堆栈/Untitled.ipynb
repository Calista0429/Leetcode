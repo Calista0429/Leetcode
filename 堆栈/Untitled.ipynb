{
 "cells": [
  {
   "cell_type": "code",
   "execution_count": null,
   "id": "4ff63310-6cf1-4bf1-a422-2fe412ead241",
   "metadata": {},
   "outputs": [],
   "source": [
    "class Solution(object):\n",
    "    def calculate(self, s):\n",
    "        \"\"\"\n",
    "        :type s: str\n",
    "        :rtype: int\n",
    "        \"\"\"\n",
    "        stack = []\n",
    "        sign = \"+\"\n",
    "        num = 0\n",
    "        s = s.replace(\" \",\"\") + \"+\"\n",
    "\n",
    "        for c in s:\n",
    "            if c.isdigit():\n",
    "                num = num * 10 + int(c)\n",
    "            else:\n",
    "                if sign == \"+\":\n",
    "                    stack.append(num)\n",
    "                elif sign == \"-\":\n",
    "                    stack.append(-num)\n",
    "                elif sign == \"*\":\n",
    "                    stack.append(stack.pop() * num)\n",
    "                elif sign == \"/\":\n",
    "                    last = stack.pop()\n",
    "                    stack.append(int(last / float(num)))\n",
    "                num = 0\n",
    "                sign = c\n",
    "        return sum(stack)"
   ]
  }
 ],
 "metadata": {
  "kernelspec": {
   "display_name": "Python 3 (ipykernel)",
   "language": "python",
   "name": "python3"
  },
  "language_info": {
   "codemirror_mode": {
    "name": "ipython",
    "version": 3
   },
   "file_extension": ".py",
   "mimetype": "text/x-python",
   "name": "python",
   "nbconvert_exporter": "python",
   "pygments_lexer": "ipython3",
   "version": "3.9.18"
  }
 },
 "nbformat": 4,
 "nbformat_minor": 5
}
