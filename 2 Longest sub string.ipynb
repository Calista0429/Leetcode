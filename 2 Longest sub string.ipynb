{
 "cells": [
  {
   "cell_type": "code",
   "execution_count": 47,
   "id": "b3b2759a-c1c7-4e0c-a56e-0fe4565627f6",
   "metadata": {},
   "outputs": [],
   "source": [
    "s = 'abcabccd'"
   ]
  },
  {
   "cell_type": "code",
   "execution_count": 48,
   "id": "3fdaf3c6-dfa4-4e37-b2ab-200f3df85de4",
   "metadata": {},
   "outputs": [],
   "source": [
    "s_length = len(s)\n",
    "left = max_length = 0\n",
    "charset = set()\n",
    "\n",
    "for right in range(s_length):\n",
    "    while s[right] in charset:\n",
    "        charset.remove(s[left])\n",
    "        left += 1\n",
    "    charset.add(s[right])\n",
    "    max_length = max(max_length, right - left + 1)"
   ]
  },
  {
   "cell_type": "code",
   "execution_count": 49,
   "id": "d57f4efe-aaec-4276-a1a7-74c6b586a128",
   "metadata": {},
   "outputs": [
    {
     "data": {
      "text/plain": [
       "3"
      ]
     },
     "execution_count": 49,
     "metadata": {},
     "output_type": "execute_result"
    }
   ],
   "source": [
    "max_length"
   ]
  }
 ],
 "metadata": {
  "kernelspec": {
   "display_name": "Python 3 (ipykernel)",
   "language": "python",
   "name": "python3"
  },
  "language_info": {
   "codemirror_mode": {
    "name": "ipython",
    "version": 3
   },
   "file_extension": ".py",
   "mimetype": "text/x-python",
   "name": "python",
   "nbconvert_exporter": "python",
   "pygments_lexer": "ipython3",
   "version": "3.7.11"
  }
 },
 "nbformat": 4,
 "nbformat_minor": 5
}
