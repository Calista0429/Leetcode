{
 "cells": [
  {
   "cell_type": "code",
   "execution_count": 3,
   "id": "48c5be1b-a2dd-4f4a-ab68-7f929f503b53",
   "metadata": {
    "tags": []
   },
   "outputs": [],
   "source": [
    "nums = [[0,1],[1,2]]"
   ]
  },
  {
   "cell_type": "code",
   "execution_count": 4,
   "id": "bab93bc6-807b-4275-8f44-85363962db1e",
   "metadata": {
    "tags": []
   },
   "outputs": [
    {
     "data": {
      "text/plain": [
       "1"
      ]
     },
     "execution_count": 4,
     "metadata": {},
     "output_type": "execute_result"
    }
   ],
   "source": [
    "nums[0][-1]"
   ]
  },
  {
   "cell_type": "code",
   "execution_count": 6,
   "id": "f2091556-3077-4043-8234-5f1b74ac7419",
   "metadata": {
    "tags": []
   },
   "outputs": [],
   "source": [
    "num1 = [1,4] \n",
    "num2 = [0,4]"
   ]
  },
  {
   "cell_type": "code",
   "execution_count": 7,
   "id": "82f0d919-02bf-4afe-a42e-fb45db5f9170",
   "metadata": {
    "tags": []
   },
   "outputs": [
    {
     "data": {
      "text/plain": [
       "[1, 4, 0, 4]"
      ]
     },
     "execution_count": 7,
     "metadata": {},
     "output_type": "execute_result"
    }
   ],
   "source": [
    "num1 + num2"
   ]
  },
  {
   "cell_type": "code",
   "execution_count": null,
   "id": "15e0635c-bcbd-4559-a2db-0fdb2d986a96",
   "metadata": {},
   "outputs": [],
   "source": []
  }
 ],
 "metadata": {
  "kernelspec": {
   "display_name": "Python 3 (ipykernel)",
   "language": "python",
   "name": "python3"
  },
  "language_info": {
   "codemirror_mode": {
    "name": "ipython",
    "version": 3
   },
   "file_extension": ".py",
   "mimetype": "text/x-python",
   "name": "python",
   "nbconvert_exporter": "python",
   "pygments_lexer": "ipython3",
   "version": "3.7.11"
  }
 },
 "nbformat": 4,
 "nbformat_minor": 5
}
