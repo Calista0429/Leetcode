{
 "cells": [
  {
   "cell_type": "code",
   "execution_count": 4,
   "id": "225bc94e-1a2a-4b62-a566-83ca414ccae5",
   "metadata": {
    "tags": []
   },
   "outputs": [],
   "source": [
    "res = []\n",
    "path = [5,4,11,2]"
   ]
  },
  {
   "cell_type": "code",
   "execution_count": 2,
   "id": "fc6396a2-3af0-47b4-be6d-3391017a7dbc",
   "metadata": {
    "tags": []
   },
   "outputs": [],
   "source": [
    "res.append(path)"
   ]
  },
  {
   "cell_type": "code",
   "execution_count": 5,
   "id": "f90f9c77-0013-4ce5-9b7d-becaf257be9b",
   "metadata": {
    "tags": []
   },
   "outputs": [],
   "source": [
    "res.append(path[:])"
   ]
  },
  {
   "cell_type": "code",
   "execution_count": 6,
   "id": "2bf53b9d-87af-4f7e-8d52-98af76249e91",
   "metadata": {
    "tags": []
   },
   "outputs": [
    {
     "data": {
      "text/plain": [
       "[[5, 4, 11, 2]]"
      ]
     },
     "execution_count": 6,
     "metadata": {},
     "output_type": "execute_result"
    }
   ],
   "source": [
    "res"
   ]
  },
  {
   "cell_type": "code",
   "execution_count": null,
   "id": "3fef76a0-19a3-4140-9287-3cfc300b42ba",
   "metadata": {},
   "outputs": [],
   "source": []
  }
 ],
 "metadata": {
  "kernelspec": {
   "display_name": "Python 3 (ipykernel)",
   "language": "python",
   "name": "python3"
  },
  "language_info": {
   "codemirror_mode": {
    "name": "ipython",
    "version": 3
   },
   "file_extension": ".py",
   "mimetype": "text/x-python",
   "name": "python",
   "nbconvert_exporter": "python",
   "pygments_lexer": "ipython3",
   "version": "3.7.11"
  }
 },
 "nbformat": 4,
 "nbformat_minor": 5
}
