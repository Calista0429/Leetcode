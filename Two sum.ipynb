{
 "cells": [
  {
   "cell_type": "markdown",
   "id": "5f15ca1d-f593-4955-8455-080934266432",
   "metadata": {},
   "source": [
    "Input: l1 = [2,4,3], l2 = [5,6,4]\n",
    "Output: [7,0,8]\n",
    "Explanation: 342 + 465 = 807"
   ]
  },
  {
   "cell_type": "code",
   "execution_count": 1,
   "id": "74b5a96a-4a72-4a27-93f6-6cd17a15f115",
   "metadata": {},
   "outputs": [],
   "source": [
    "l1 = [2,4,3]\n",
    "l2 = [5,6,4]"
   ]
  },
  {
   "cell_type": "code",
   "execution_count": 43,
   "id": "c47d8504-ea9a-4bd9-9511-e1c0c68665a4",
   "metadata": {},
   "outputs": [],
   "source": [
    "output = []\n",
    "incr = False\n",
    "if len(l1) == len(l2):\n",
    "    digit = 0\n",
    "    total = 0\n",
    "    for i,j in (zip(l1[::-1],l2[::-1])):\n",
    "        # print(i,j)\n",
    "        # i * 10**(len(l1) - digit)\n",
    "        # j * 10**(len(l2) - digit)\n",
    "        # value = (i * 10**(len(l1)-1 - digit)) + (j * 10**(len(l2)-1 - digit))\n",
    "        if i + j >=10:\n",
    "            output.append((i + j ) % 10)\n",
    "            incr = True\n",
    "        elif incr:\n",
    "            output.append(i + j + 1)\n",
    "            incr = False\n",
    "        else:\n",
    "            output.append(i + j)\n",
    "elif len(l1) - len(l2) > 0:\n",
    "    l2 += [0 for i in range(len(l1) - len(l2))]\n",
    "    digit = 0\n",
    "    total = 0\n",
    "    for i,j in (zip(l1[::-1],l2[::-1])):\n",
    "        # print(i,j)\n",
    "        # i * 10**(len(l1) - digit)\n",
    "        # j * 10**(len(l2) - digit)\n",
    "        # value = (i * 10**(len(l1)-1 - digit)) + (j * 10**(len(l2)-1 - digit))\n",
    "        if i + j >=10:\n",
    "            output.append((i + j ) % 10)\n",
    "            incr = True\n",
    "        elif incr:\n",
    "            output.append(i + j + 1)\n",
    "            incr = False\n",
    "        else:\n",
    "            output.append(i + j)"
   ]
  },
  {
   "cell_type": "code",
   "execution_count": 90,
   "id": "3617a08e-e2e4-4f9a-adea-5c081116f26a",
   "metadata": {},
   "outputs": [],
   "source": [
    "# l1 = [9,9,9,9,9,9,9] \n",
    "# l2 = [9,9,9,9]\n",
    "l1 = [2,4,3]\n",
    "l2 = [5,6,4]\n",
    "\n",
    "if len(l1) - len(l2) >= 0:\n",
    "    l2 += [0 for i in range(len(l1) - len(l2))]\n",
    "elif len(l1) - len(l2) <0:\n",
    "    l1 += [0 for i in range(len(l1) - len(l2))]\n",
    "digit = 0\n",
    "total = 0\n",
    "value = 0\n",
    "for i,j in (zip(l1[::-1],l2[::-1])):\n",
    "# print(i,j)\n",
    "# i * 10**(len(l1) - digit)\n",
    "# j * 10**(len(l2) - digit)\n",
    "    value = (i * 10**(len(l1)-1 - digit)) + (j * 10**(len(l2)-1 - digit))\n",
    "    total += value\n",
    "    digit += 1\n",
    "output = [int(i) for i in str(total)[::-1]]\n",
    "# if len(l1) == 0 and len(l2) == 0:\n",
    "#     return 0"
   ]
  },
  {
   "cell_type": "code",
   "execution_count": 91,
   "id": "f28e34c4-8cd0-4519-8931-6c763aa72e1e",
   "metadata": {},
   "outputs": [
    {
     "name": "stdout",
     "output_type": "stream",
     "text": [
      "[7, 0, 8]\n"
     ]
    }
   ],
   "source": [
    "print(output)"
   ]
  },
  {
   "cell_type": "code",
   "execution_count": null,
   "id": "bef207bb-42c8-4c3b-9fa7-af87beea90b8",
   "metadata": {},
   "outputs": [
    {
     "data": {
      "text/plain": [
       "7"
      ]
     },
     "execution_count": 62,
     "metadata": {},
     "output_type": "execute_result"
    }
   ],
   "source": [
    "digit"
   ]
  },
  {
   "cell_type": "code",
   "execution_count": null,
   "id": "a8fdc188-8c0f-41db-a03a-06fa27772b30",
   "metadata": {},
   "outputs": [
    {
     "data": {
      "text/plain": [
       "8"
      ]
     },
     "execution_count": 64,
     "metadata": {},
     "output_type": "execute_result"
    }
   ],
   "source": [
    "80 // 10"
   ]
  },
  {
   "cell_type": "code",
   "execution_count": null,
   "id": "d8fdcacf-a6f9-40ac-8e9c-dcc66f83ec6d",
   "metadata": {},
   "outputs": [
    {
     "data": {
      "text/plain": [
       "1000999"
      ]
     },
     "execution_count": 71,
     "metadata": {},
     "output_type": "execute_result"
    }
   ],
   "source": [
    "total // 10"
   ]
  },
  {
   "cell_type": "code",
   "execution_count": null,
   "id": "e20c4388-5ee0-4c1b-91c1-e62e8f17a7a6",
   "metadata": {},
   "outputs": [
    {
     "data": {
      "text/plain": [
       "9008999"
      ]
     },
     "execution_count": 70,
     "metadata": {},
     "output_type": "execute_result"
    }
   ],
   "source": [
    "total - (total // 10)"
   ]
  },
  {
   "cell_type": "code",
   "execution_count": null,
   "id": "3e849dfc-e1d5-4862-a8e0-0bbb7b28d73e",
   "metadata": {},
   "outputs": [],
   "source": [
    "strtotal = str(total)"
   ]
  },
  {
   "cell_type": "code",
   "execution_count": 82,
   "id": "15d6ff56-bd82-4119-bcf1-32832eb5ae13",
   "metadata": {},
   "outputs": [],
   "source": [
    "output = [int(i) for i in strtotal[::-1]]"
   ]
  },
  {
   "cell_type": "code",
   "execution_count": 83,
   "id": "6a614773-2309-4fc7-848e-b89aaf0666ab",
   "metadata": {},
   "outputs": [
    {
     "data": {
      "text/plain": [
       "[8, 9, 9, 9, 0, 0, 0, 1]"
      ]
     },
     "execution_count": 83,
     "metadata": {},
     "output_type": "execute_result"
    }
   ],
   "source": [
    "output"
   ]
  },
  {
   "cell_type": "code",
   "execution_count": null,
   "id": "90bcc50c-3b74-4004-9fa4-409f92a462ac",
   "metadata": {},
   "outputs": [],
   "source": [
    "# Definition for singly-linked list.\n",
    "class ListNode(object):\n",
    "    def __init__(self, val=0, next=None):\n",
    "        self.val = val\n",
    "        self.next = next\n",
    "\n",
    "class Solution(object):\n",
    "    def addTwoNumbers(self, l1, l2):    \n",
    "        dummy = ListNode(0)   \n",
    "        current = dummy\n",
    "        carry = 0\n",
    "        while l1 or l2:\n",
    "            val1 = l1.val if l1 else 0\n",
    "            val2 = l2.val if l2 else 0\n",
    "            total = val1 + val2 + carry\n",
    "            carry = total // 10\n",
    "            current.next = ListNode(total % 10)\n",
    "            current = current.next\n",
    "\n",
    "            l1 = l1.next if l1 else None\n",
    "            l2 = l2.next if l2 else None\n",
    "        if carry:\n",
    "            current.next = ListNode(carry)\n",
    "        return dummy.next"
   ]
  },
  {
   "cell_type": "code",
   "execution_count": null,
   "id": "d7b4c872-086f-4202-9cb0-579e456be254",
   "metadata": {},
   "outputs": [],
   "source": [
    "class Solution(object):\n",
    "    def addTwoNumbers(self, l1, l2):\n",
    "        \"\"\"\n",
    "        :type l1: Optional[ListNode]\n",
    "        :type l2: Optional[ListNode]\n",
    "        :rtype: Optional[ListNode]\n",
    "        \"\"\"\n",
    "        \n",
    "        dummy = ListNode()\n",
    "        res = dummy\n",
    "        carry = 0\n",
    "        total = 0 \n",
    "\n",
    "        while l1 or l2 or carry:\n",
    "            total = carry \n",
    "\n",
    "            if l1:\n",
    "                total += l1.val\n",
    "                l1 = l1.next\n",
    "\n",
    "            if l2:\n",
    "                total += l2.val\n",
    "                l2 = l2.next\n",
    "\n",
    "            num = total % 10\n",
    "            carry = total // 10\n",
    "            dummy.next = ListNode(num)\n",
    "            dummy = dummy.next\n",
    "\n",
    "        return res.next"
   ]
  },
  {
   "cell_type": "code",
   "execution_count": 2,
   "id": "051aa580-565b-403b-8cbf-cf410d2541eb",
   "metadata": {},
   "outputs": [],
   "source": [
    "class ListNode(object):\n",
    "    def __init__(self, val=0, next=None):\n",
    "        self.val = val\n",
    "        self.next = next\n",
    "    \n",
    "    def addTwoNumbers(self, l1,l2):\n",
    "        dummy = ListNode()\n",
    "        res = dummy\n",
    "        carry = 0\n",
    "        total = 0\n",
    "        while l1 or l2 or carry:\n",
    "            total = carry #将上一轮多出的1加到下一轮中\n",
    "            \n",
    "            if l1:\n",
    "                total += l1.val\n",
    "                l1 = l1.next\n",
    "            if l2:\n",
    "                total += l2.val\n",
    "                l2 = l2.next\n",
    "            \n",
    "            carry = total // 10\n",
    "            dummy.next = ListNode(total % 10)\n",
    "        return res.next"
   ]
  }
 ],
 "metadata": {
  "kernelspec": {
   "display_name": "Python 3 (ipykernel)",
   "language": "python",
   "name": "python3"
  },
  "language_info": {
   "codemirror_mode": {
    "name": "ipython",
    "version": 3
   },
   "file_extension": ".py",
   "mimetype": "text/x-python",
   "name": "python",
   "nbconvert_exporter": "python",
   "pygments_lexer": "ipython3",
   "version": "3.9.18"
  }
 },
 "nbformat": 4,
 "nbformat_minor": 5
}
