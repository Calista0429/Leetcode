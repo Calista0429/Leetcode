{
 "cells": [
  {
   "cell_type": "code",
   "execution_count": 3,
   "id": "354e0675-0d56-4fa3-8ff9-60a2a207f423",
   "metadata": {
    "tags": []
   },
   "outputs": [],
   "source": [
    "nums = [3,2,1,5,6,4]\n",
    "k = 2"
   ]
  },
  {
   "cell_type": "code",
   "execution_count": 8,
   "id": "846f4bab-e457-49f0-a224-1acbee3d38f6",
   "metadata": {
    "tags": []
   },
   "outputs": [
    {
     "data": {
      "text/plain": [
       "5"
      ]
     },
     "execution_count": 8,
     "metadata": {},
     "output_type": "execute_result"
    }
   ],
   "source": [
    "sorted(nums,reverse = True)[k-1]"
   ]
  },
  {
   "cell_type": "code",
   "execution_count": 9,
   "id": "e8c9e835-00b8-4f98-ac72-c77265009764",
   "metadata": {
    "tags": []
   },
   "outputs": [],
   "source": [
    "nums.remove(1)"
   ]
  },
  {
   "cell_type": "code",
   "execution_count": 10,
   "id": "d77adeb1-80e2-4d48-b6ca-034613a120b4",
   "metadata": {
    "tags": []
   },
   "outputs": [
    {
     "data": {
      "text/plain": [
       "[3, 2, 5, 6, 4]"
      ]
     },
     "execution_count": 10,
     "metadata": {},
     "output_type": "execute_result"
    }
   ],
   "source": [
    "nums"
   ]
  },
  {
   "cell_type": "code",
   "execution_count": 11,
   "id": "c1b8046e-813a-46bf-b327-59545056b224",
   "metadata": {
    "tags": []
   },
   "outputs": [],
   "source": [
    "import heapq\n",
    "nums = [5, 1, 3, 8]"
   ]
  },
  {
   "cell_type": "code",
   "execution_count": 12,
   "id": "f3fd85d0-8238-44e8-8fb4-a1535be7ec24",
   "metadata": {
    "tags": []
   },
   "outputs": [
    {
     "name": "stdout",
     "output_type": "stream",
     "text": [
      "[1, 5, 3, 8]\n"
     ]
    }
   ],
   "source": [
    "heapq.heapify(nums)  # 把列表变成最小堆\n",
    "print(nums)          # 输出类似：[1, 5, 3, 8] （保证最小堆性质）"
   ]
  },
  {
   "cell_type": "code",
   "execution_count": 13,
   "id": "51cb57dc-e9ff-4f9a-8a1f-d05a6888fa63",
   "metadata": {
    "tags": []
   },
   "outputs": [
    {
     "name": "stdout",
     "output_type": "stream",
     "text": [
      "[1, 2, 3, 8, 5]\n"
     ]
    }
   ],
   "source": [
    "heapq.heappush(nums, 2)  # 加入一个元素\n",
    "print(nums)"
   ]
  },
  {
   "cell_type": "code",
   "execution_count": 14,
   "id": "01c7fa61-a8eb-4d3d-a266-d35c725670ab",
   "metadata": {
    "tags": []
   },
   "outputs": [
    {
     "name": "stdout",
     "output_type": "stream",
     "text": [
      "1\n"
     ]
    }
   ],
   "source": [
    "min_value = heapq.heappop(nums)  # 弹出最小的值\n",
    "print(min_value)"
   ]
  },
  {
   "cell_type": "code",
   "execution_count": 1,
   "id": "d39ee482-c8a0-468a-9bbd-32e6da1c6f78",
   "metadata": {},
   "outputs": [],
   "source": [
    "nums = [3,2,1,5,6,4]"
   ]
  },
  {
   "cell_type": "code",
   "execution_count": 2,
   "id": "ef79d129-b63b-4f80-b45f-53b1aa910590",
   "metadata": {},
   "outputs": [
    {
     "data": {
      "text/plain": [
       "3"
      ]
     },
     "execution_count": 2,
     "metadata": {},
     "output_type": "execute_result"
    }
   ],
   "source": [
    "nums.index(5)"
   ]
  },
  {
   "cell_type": "code",
   "execution_count": null,
   "id": "798019aa-db00-428e-bcc7-0c686041fb66",
   "metadata": {},
   "outputs": [],
   "source": []
  }
 ],
 "metadata": {
  "kernelspec": {
   "display_name": "Python 3 (ipykernel)",
   "language": "python",
   "name": "python3"
  },
  "language_info": {
   "codemirror_mode": {
    "name": "ipython",
    "version": 3
   },
   "file_extension": ".py",
   "mimetype": "text/x-python",
   "name": "python",
   "nbconvert_exporter": "python",
   "pygments_lexer": "ipython3",
   "version": "3.9.18"
  }
 },
 "nbformat": 4,
 "nbformat_minor": 5
}
