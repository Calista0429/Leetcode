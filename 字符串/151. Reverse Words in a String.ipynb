{
 "cells": [
  {
   "cell_type": "code",
   "execution_count": 6,
   "id": "23683ebb-0d47-48e4-8908-83044b01ca2e",
   "metadata": {},
   "outputs": [],
   "source": [
    "s = \"the sky is     blue\"\n",
    "output = \"blue is sky the\""
   ]
  },
  {
   "cell_type": "code",
   "execution_count": 9,
   "id": "27f6d214-525e-46a1-a5bb-d0989043c362",
   "metadata": {},
   "outputs": [],
   "source": [
    "text = s.split()"
   ]
  },
  {
   "cell_type": "code",
   "execution_count": 10,
   "id": "f1219a5e-099c-45fd-8357-9972409e4528",
   "metadata": {},
   "outputs": [
    {
     "data": {
      "text/plain": [
       "['the', 'sky', 'is', 'blue']"
      ]
     },
     "execution_count": 10,
     "metadata": {},
     "output_type": "execute_result"
    }
   ],
   "source": [
    "text"
   ]
  },
  {
   "cell_type": "code",
   "execution_count": 15,
   "id": "46b64ce8-23ca-4d85-a68d-77ecd08fd0d6",
   "metadata": {},
   "outputs": [
    {
     "name": "stdout",
     "output_type": "stream",
     "text": [
      "blue\n",
      "is\n",
      "sky\n",
      "the\n"
     ]
    }
   ],
   "source": [
    "for word in range(len(text)-1,-1,-1):\n",
    "    print(text[word])"
   ]
  },
  {
   "cell_type": "code",
   "execution_count": 28,
   "id": "96874025-004e-4238-a2ad-217c6f1af264",
   "metadata": {},
   "outputs": [],
   "source": [
    "res = []\n",
    "for i in range(len(text) - 1, -1, -1):\n",
    "    res.append(text[i])"
   ]
  },
  {
   "cell_type": "code",
   "execution_count": 29,
   "id": "41c7bd96-1624-4893-b6f3-c8fa2fead6f2",
   "metadata": {},
   "outputs": [
    {
     "data": {
      "text/plain": [
       "['blue', 'is', 'sky', 'the']"
      ]
     },
     "execution_count": 29,
     "metadata": {},
     "output_type": "execute_result"
    }
   ],
   "source": [
    "res"
   ]
  },
  {
   "cell_type": "code",
   "execution_count": 32,
   "id": "c6471efa-fe41-46aa-a172-7c55754638bb",
   "metadata": {},
   "outputs": [
    {
     "data": {
      "text/plain": [
       "'blue is sky the'"
      ]
     },
     "execution_count": 32,
     "metadata": {},
     "output_type": "execute_result"
    }
   ],
   "source": [
    "\" \".join(res)"
   ]
  },
  {
   "cell_type": "code",
   "execution_count": 33,
   "id": "5b31e838-4c54-41ea-9725-12a00673da8b",
   "metadata": {},
   "outputs": [
    {
     "data": {
      "text/plain": [
       "['blue', 'is', 'sky', 'the']"
      ]
     },
     "execution_count": 33,
     "metadata": {},
     "output_type": "execute_result"
    }
   ],
   "source": [
    "text[::-1]"
   ]
  },
  {
   "cell_type": "code",
   "execution_count": 34,
   "id": "645ccd27-55d0-4bb3-8c4b-1eccc2b161d2",
   "metadata": {},
   "outputs": [
    {
     "data": {
      "text/plain": [
       "'blue is sky the'"
      ]
     },
     "execution_count": 34,
     "metadata": {},
     "output_type": "execute_result"
    }
   ],
   "source": [
    "\" \".join(text[::-1])"
   ]
  }
 ],
 "metadata": {
  "kernelspec": {
   "display_name": "Python 3 (ipykernel)",
   "language": "python",
   "name": "python3"
  },
  "language_info": {
   "codemirror_mode": {
    "name": "ipython",
    "version": 3
   },
   "file_extension": ".py",
   "mimetype": "text/x-python",
   "name": "python",
   "nbconvert_exporter": "python",
   "pygments_lexer": "ipython3",
   "version": "3.9.18"
  }
 },
 "nbformat": 4,
 "nbformat_minor": 5
}
