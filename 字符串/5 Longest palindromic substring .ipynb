{
 "cells": [
  {
   "cell_type": "code",
   "execution_count": 3,
   "id": "5b2719f3-c003-4e09-a23d-d74364f87ddd",
   "metadata": {},
   "outputs": [],
   "source": [
    "s = \"babad\""
   ]
  },
  {
   "cell_type": "code",
   "execution_count": 4,
   "id": "d2e2e863-065c-4544-8da6-6009cc3f9e13",
   "metadata": {},
   "outputs": [],
   "source": [
    "s_length = len(s)\n",
    "left = max_length = 0\n",
    "charlist=[]"
   ]
  },
  {
   "cell_type": "code",
   "execution_count": null,
   "id": "fd01eff4-9773-4aad-b1c9-b216879ed652",
   "metadata": {},
   "outputs": [],
   "source": [
    "'bbaba'"
   ]
  },
  {
   "cell_type": "code",
   "execution_count": 5,
   "id": "9b497a52-e372-4871-bc2e-e0f7de4fd327",
   "metadata": {},
   "outputs": [],
   "source": [
    "def longestPalindrome(s: str) -> str:\n",
    "    def expandAroundCenter(left: int, right: int) -> str:\n",
    "        while left >= 0 and right < len(s) and s[left] == s[right]:\n",
    "            left -= 1\n",
    "            right += 1\n",
    "        return s[left + 1:right]  # 注意 Python 切片不包含 right\n",
    "\n",
    "    if not s:\n",
    "        return \"\"\n",
    "\n",
    "    longest = \"\"\n",
    "    for i in range(len(s)):\n",
    "        odd_palindrome = expandAroundCenter(i, i)  # 奇数长度\n",
    "        even_palindrome = expandAroundCenter(i, i + 1)  # 偶数长度\n",
    "        longest = max(longest, odd_palindrome, even_palindrome, key=len)\n",
    "\n",
    "    return longest"
   ]
  },
  {
   "cell_type": "code",
   "execution_count": 6,
   "id": "a4de3a45-58d0-41d2-b212-643b8f147858",
   "metadata": {},
   "outputs": [
    {
     "data": {
      "text/plain": [
       "'bab'"
      ]
     },
     "execution_count": 6,
     "metadata": {},
     "output_type": "execute_result"
    }
   ],
   "source": [
    "longestPalindrome('bbaba')"
   ]
  },
  {
   "cell_type": "code",
   "execution_count": 8,
   "id": "1351c7ae-412c-4b0e-b5b4-035541f44686",
   "metadata": {},
   "outputs": [],
   "source": [
    "class Solution(object):\n",
    "    def longestPalindrome(self, s):\n",
    "        def expandfromcenter(left: int, right: int) -> str:\n",
    "            while left >=0 and right < len(s) and s[left] == s[right]:\n",
    "                left -=1\n",
    "                right +=1\n",
    "            return s[left + 1: right]\n",
    "        if not s:\n",
    "            return \"\"\n",
    "        longest = \"\"\n",
    "        for i in range(len(s)):\n",
    "            odd = expandfromcenter(i,i)\n",
    "            oven = expandfromcenter(i,i+1)\n",
    "            longest = max(odd,oven,longest,key=len)\n",
    "        return longest"
   ]
  },
  {
   "cell_type": "code",
   "execution_count": 7,
   "id": "78b1b420-1d6f-4efe-9240-576ceeea9318",
   "metadata": {},
   "outputs": [
    {
     "data": {
      "text/plain": [
       "'b'"
      ]
     },
     "execution_count": 7,
     "metadata": {},
     "output_type": "execute_result"
    }
   ],
   "source": [
    "s = 'bbaba'\n",
    "left = 2\n",
    "right = 4\n",
    "s[left+1:right]"
   ]
  },
  {
   "cell_type": "code",
   "execution_count": null,
   "id": "7310ec9a-137e-4b3b-aa8c-81ef02e736c9",
   "metadata": {},
   "outputs": [],
   "source": []
  }
 ],
 "metadata": {
  "kernelspec": {
   "display_name": "Python 3 (ipykernel)",
   "language": "python",
   "name": "python3"
  },
  "language_info": {
   "codemirror_mode": {
    "name": "ipython",
    "version": 3
   },
   "file_extension": ".py",
   "mimetype": "text/x-python",
   "name": "python",
   "nbconvert_exporter": "python",
   "pygments_lexer": "ipython3",
   "version": "3.7.11"
  }
 },
 "nbformat": 4,
 "nbformat_minor": 5
}
