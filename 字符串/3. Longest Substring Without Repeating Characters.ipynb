{
 "cells": [
  {
   "cell_type": "code",
   "execution_count": 2,
   "id": "53814a2a-5b5a-4f26-a7b0-0cdf004721f2",
   "metadata": {},
   "outputs": [],
   "source": [
    "s = \"abcabcbb\""
   ]
  },
  {
   "cell_type": "code",
   "execution_count": 1,
   "id": "f84fe0cc-aaec-4fa4-b8de-4ec0f5504ad8",
   "metadata": {},
   "outputs": [],
   "source": [
    "class Solution(object):\n",
    "    def lengthOfLongestSubstring(self, s):\n",
    "        \"\"\"\n",
    "        :type s: str\n",
    "        :rtype: int\n",
    "        \"\"\"\n",
    "        s_length = len(s)\n",
    "        left = max_length = 0\n",
    "        charset = set()\n",
    "\n",
    "        for right in range(s_length):\n",
    "            while s[right] in charset:\n",
    "                charset.remove(s[left])\n",
    "                left += 1\n",
    "            charset.add(s[right])\n",
    "            max_length = max(max_length, right - left + 1)\n",
    "        return max_length"
   ]
  },
  {
   "cell_type": "code",
   "execution_count": 13,
   "id": "f213c298-b203-44fd-aafb-1101452325d8",
   "metadata": {},
   "outputs": [],
   "source": [
    "def lengthOfLongestSubstring(s):\n",
    "    \"\"\"\n",
    "    :type s: str\n",
    "    :rtype: int\n",
    "    \"\"\"\n",
    "    left = max_length = 0\n",
    "    count = {}\n",
    "    for right,c in enumerate(s):\n",
    "        count[c] = 1 + count.get(c,0)\n",
    "        while count[c] > 1:\n",
    "            count[s[left]] -= 1\n",
    "            left += 1\n",
    "        max_length = max(max_length, right - left + 1)\n",
    "    return max_length      "
   ]
  },
  {
   "cell_type": "code",
   "execution_count": 14,
   "id": "401d51d9-1b9c-406e-98e6-f14186ee27a4",
   "metadata": {},
   "outputs": [
    {
     "data": {
      "text/plain": [
       "3"
      ]
     },
     "execution_count": 14,
     "metadata": {},
     "output_type": "execute_result"
    }
   ],
   "source": [
    "lengthOfLongestSubstring(s)"
   ]
  }
 ],
 "metadata": {
  "kernelspec": {
   "display_name": "Python 3 (ipykernel)",
   "language": "python",
   "name": "python3"
  },
  "language_info": {
   "codemirror_mode": {
    "name": "ipython",
    "version": 3
   },
   "file_extension": ".py",
   "mimetype": "text/x-python",
   "name": "python",
   "nbconvert_exporter": "python",
   "pygments_lexer": "ipython3",
   "version": "3.9.18"
  }
 },
 "nbformat": 4,
 "nbformat_minor": 5
}
