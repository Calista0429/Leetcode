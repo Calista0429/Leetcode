{
 "cells": [
  {
   "cell_type": "code",
   "execution_count": 4,
   "id": "5868bf3e-20f6-4e70-be3e-f838483876a4",
   "metadata": {
    "tags": []
   },
   "outputs": [],
   "source": [
    "strs = [\"flower\",\"flow\",\"flight\"]"
   ]
  },
  {
   "cell_type": "code",
   "execution_count": 6,
   "id": "f8df1a97-005e-4a4a-884b-3530b567db79",
   "metadata": {
    "tags": []
   },
   "outputs": [],
   "source": []
  },
  {
   "cell_type": "code",
   "execution_count": 7,
   "id": "876ab03c-0a74-4587-b34d-07205cb7b141",
   "metadata": {
    "tags": []
   },
   "outputs": [
    {
     "data": {
      "text/plain": [
       "'fl'"
      ]
     },
     "execution_count": 7,
     "metadata": {},
     "output_type": "execute_result"
    }
   ],
   "source": [
    "longestCommonPrefix(strs)"
   ]
  },
  {
   "cell_type": "code",
   "execution_count": 1,
   "id": "ef67f24d-14d8-4040-bce5-5840de793691",
   "metadata": {},
   "outputs": [],
   "source": [
    "strs = [\"flower\",\"flow\",\"flight\"]"
   ]
  },
  {
   "cell_type": "code",
   "execution_count": 4,
   "id": "268c81b0-605e-4290-be4c-e5487294a18c",
   "metadata": {},
   "outputs": [
    {
     "name": "stdout",
     "output_type": "stream",
     "text": [
      "fl\n"
     ]
    }
   ],
   "source": [
    "pre_str = strs[0]\n",
    "pre_len = len(pre_str)\n",
    "\n",
    "for s in strs[1:]:\n",
    "    while pre_str != s[:pre_len]:\n",
    "        pre_len -= 1\n",
    "        if pre_len == 0:\n",
    "            # return ''\n",
    "            print(None)\n",
    "        pre_str = pre_str[:pre_len]\n",
    "print(pre_str)"
   ]
  },
  {
   "cell_type": "code",
   "execution_count": null,
   "id": "7b608c76-c528-4230-a4d4-c3455a2e5028",
   "metadata": {},
   "outputs": [],
   "source": []
  }
 ],
 "metadata": {
  "kernelspec": {
   "display_name": "Python 3 (ipykernel)",
   "language": "python",
   "name": "python3"
  },
  "language_info": {
   "codemirror_mode": {
    "name": "ipython",
    "version": 3
   },
   "file_extension": ".py",
   "mimetype": "text/x-python",
   "name": "python",
   "nbconvert_exporter": "python",
   "pygments_lexer": "ipython3",
   "version": "3.9.18"
  }
 },
 "nbformat": 4,
 "nbformat_minor": 5
}
