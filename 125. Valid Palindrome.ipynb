{
 "cells": [
  {
   "cell_type": "code",
   "execution_count": 1,
   "id": "4b3f7f22-0932-4597-98e4-7c1b79de1655",
   "metadata": {
    "tags": []
   },
   "outputs": [],
   "source": [
    "s = \"A man, a plan, a canal: Panama\""
   ]
  },
  {
   "cell_type": "code",
   "execution_count": 3,
   "id": "3daa2b61-63f8-4089-bdf1-08c69935381d",
   "metadata": {
    "tags": []
   },
   "outputs": [],
   "source": [
    "st = \"\".join(s.strip().split())"
   ]
  },
  {
   "cell_type": "code",
   "execution_count": 16,
   "id": "ec52753b-7dc0-4d39-a513-648ea7619045",
   "metadata": {
    "tags": []
   },
   "outputs": [],
   "source": [
    "string = \"\"\n",
    "for char in s:\n",
    "    if char.isalpha():\n",
    "        string+=char.lower()"
   ]
  },
  {
   "cell_type": "code",
   "execution_count": 17,
   "id": "05c09feb-6bf1-4de7-8be3-ebf5ad326486",
   "metadata": {
    "tags": []
   },
   "outputs": [
    {
     "data": {
      "text/plain": [
       "'amanaplanacanalpanama'"
      ]
     },
     "execution_count": 17,
     "metadata": {},
     "output_type": "execute_result"
    }
   ],
   "source": [
    "string[::-1]"
   ]
  },
  {
   "cell_type": "code",
   "execution_count": 19,
   "id": "cfac10dd-3095-4ea4-9e4f-7ca71d4f6815",
   "metadata": {
    "tags": []
   },
   "outputs": [
    {
     "data": {
      "text/plain": [
       "True"
      ]
     },
     "execution_count": 19,
     "metadata": {},
     "output_type": "execute_result"
    }
   ],
   "source": [
    "\"0\".isalnum()"
   ]
  },
  {
   "cell_type": "code",
   "execution_count": 21,
   "id": "747a9c71-7f57-406d-8c0a-d906cd6405be",
   "metadata": {
    "tags": []
   },
   "outputs": [
    {
     "data": {
      "text/plain": [
       "'amanaplanacanalpanama'"
      ]
     },
     "execution_count": 21,
     "metadata": {},
     "output_type": "execute_result"
    }
   ],
   "source": [
    "import re\n",
    "re.sub(r'[^A-Z0-9a-z]', '', s).lower()"
   ]
  },
  {
   "cell_type": "code",
   "execution_count": null,
   "id": "86c8114d-9c51-482a-84ac-8e9c8172cb11",
   "metadata": {},
   "outputs": [],
   "source": []
  }
 ],
 "metadata": {
  "kernelspec": {
   "display_name": "Python 3 (ipykernel)",
   "language": "python",
   "name": "python3"
  },
  "language_info": {
   "codemirror_mode": {
    "name": "ipython",
    "version": 3
   },
   "file_extension": ".py",
   "mimetype": "text/x-python",
   "name": "python",
   "nbconvert_exporter": "python",
   "pygments_lexer": "ipython3",
   "version": "3.7.11"
  }
 },
 "nbformat": 4,
 "nbformat_minor": 5
}
