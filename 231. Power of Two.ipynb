{
 "cells": [
  {
   "cell_type": "code",
   "execution_count": 11,
   "id": "9983c9cc-adbb-46d4-9411-03370a859e42",
   "metadata": {},
   "outputs": [],
   "source": [
    "def ispower2(n):\n",
    "    while n:\n",
    "        if n == 1:\n",
    "            return True\n",
    "        if n % 2 != 0:\n",
    "            return False\n",
    "        n /= 2\n",
    "    return False"
   ]
  },
  {
   "cell_type": "code",
   "execution_count": 12,
   "id": "5dec1737-28bf-4524-ad78-52543c6c0eaa",
   "metadata": {},
   "outputs": [
    {
     "data": {
      "text/plain": [
       "True"
      ]
     },
     "execution_count": 12,
     "metadata": {},
     "output_type": "execute_result"
    }
   ],
   "source": [
    "ispower2(16)"
   ]
  },
  {
   "cell_type": "code",
   "execution_count": 13,
   "id": "e3f1ae8a-d0bb-45b1-9b1a-c95205f05327",
   "metadata": {},
   "outputs": [
    {
     "data": {
      "text/plain": [
       "False"
      ]
     },
     "execution_count": 13,
     "metadata": {},
     "output_type": "execute_result"
    }
   ],
   "source": [
    "ispower2(0)"
   ]
  },
  {
   "cell_type": "code",
   "execution_count": 14,
   "id": "f1e7776b-b0f6-49c7-abfa-1fddc68c7ced",
   "metadata": {},
   "outputs": [
    {
     "data": {
      "text/plain": [
       "False"
      ]
     },
     "execution_count": 14,
     "metadata": {},
     "output_type": "execute_result"
    }
   ],
   "source": [
    "ispower2(3)"
   ]
  },
  {
   "cell_type": "code",
   "execution_count": null,
   "id": "1107aa54-fc57-491a-8ea5-1489949e2d13",
   "metadata": {},
   "outputs": [],
   "source": []
  }
 ],
 "metadata": {
  "kernelspec": {
   "display_name": "Python 3 (ipykernel)",
   "language": "python",
   "name": "python3"
  },
  "language_info": {
   "codemirror_mode": {
    "name": "ipython",
    "version": 3
   },
   "file_extension": ".py",
   "mimetype": "text/x-python",
   "name": "python",
   "nbconvert_exporter": "python",
   "pygments_lexer": "ipython3",
   "version": "3.13.2"
  }
 },
 "nbformat": 4,
 "nbformat_minor": 5
}
