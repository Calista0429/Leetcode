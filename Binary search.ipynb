{
 "cells": [
  {
   "cell_type": "code",
   "execution_count": 1,
   "id": "06fcc58e-616f-43d5-8e4c-f8bff5717146",
   "metadata": {},
   "outputs": [],
   "source": [
    "nums = [-1,0,3,5,9,12]\n",
    "target = 5"
   ]
  },
  {
   "cell_type": "code",
   "execution_count": null,
   "id": "234b33f2-58ac-4bba-a86f-554c2cc8ab1a",
   "metadata": {},
   "outputs": [],
   "source": [
    "left = 0\n",
    "right = len(nums) - 1   \n",
    "while left <= right:\n",
    "    mid = (left + right) // 2\n",
    "    if nums[mid] > target:\n",
    "        right = mid - 1\n",
    "    elif nums[mid] < target:\n",
    "        left = mid + 1\n",
    "    else :\n",
    "        return mid\n",
    "return -1"
   ]
  }
 ],
 "metadata": {
  "kernelspec": {
   "display_name": "Python 3 (ipykernel)",
   "language": "python",
   "name": "python3"
  },
  "language_info": {
   "codemirror_mode": {
    "name": "ipython",
    "version": 3
   },
   "file_extension": ".py",
   "mimetype": "text/x-python",
   "name": "python",
   "nbconvert_exporter": "python",
   "pygments_lexer": "ipython3",
   "version": "3.8.20"
  }
 },
 "nbformat": 4,
 "nbformat_minor": 5
}
