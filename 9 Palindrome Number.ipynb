{
 "cells": [
  {
   "cell_type": "markdown",
   "id": "bcbe9380-2af4-46e5-a9aa-9ebd79641ac1",
   "metadata": {},
   "source": [
    "121\n",
    "131\n",
    "1441"
   ]
  },
  {
   "cell_type": "code",
   "execution_count": 8,
   "id": "7c357f2a-cb23-455d-9ffc-6d9f1c9927c2",
   "metadata": {},
   "outputs": [],
   "source": [
    "x = 4567\n",
    "x = str(x)"
   ]
  },
  {
   "cell_type": "code",
   "execution_count": 9,
   "id": "55858d87-1be0-4eef-8373-dff22ccaa754",
   "metadata": {},
   "outputs": [
    {
     "data": {
      "text/plain": [
       "'7654'"
      ]
     },
     "execution_count": 9,
     "metadata": {},
     "output_type": "execute_result"
    }
   ],
   "source": [
    "x[::-1]"
   ]
  },
  {
   "cell_type": "code",
   "execution_count": 12,
   "id": "c5dbbd21-59bf-4dab-8e05-f4b8c9121fb6",
   "metadata": {},
   "outputs": [
    {
     "data": {
      "text/plain": [
       "'7654'"
      ]
     },
     "execution_count": 12,
     "metadata": {},
     "output_type": "execute_result"
    }
   ],
   "source": [
    "x[::-1]"
   ]
  },
  {
   "cell_type": "markdown",
   "id": "5bf1ff30-73c3-4651-8592-49982ceb7478",
   "metadata": {},
   "source": [
    "## Solution 1"
   ]
  },
  {
   "cell_type": "markdown",
   "id": "facd2103-52d6-42a1-9614-c6601e6f4809",
   "metadata": {},
   "source": [
    "新方法，[::-1]可以用于反向输出字符串，列表，元组等"
   ]
  },
  {
   "cell_type": "code",
   "execution_count": null,
   "id": "783f0ec7-ba77-4a42-bc70-0e26709a8129",
   "metadata": {},
   "outputs": [],
   "source": [
    "class Solution(object):\n",
    "    def isPalindrome(self, x):\n",
    "        \"\"\"\n",
    "        :type x: int\n",
    "        :rtype: bool\n",
    "        \"\"\"\n",
    "        x = str(x)\n",
    "        return x == x[::-1] "
   ]
  },
  {
   "cell_type": "markdown",
   "id": "36e506fa-64c6-4b96-91f1-cf8cca5a9cd7",
   "metadata": {},
   "source": [
    "不可能是回文数的有：0，负数，十的倍数\n"
   ]
  },
  {
   "cell_type": "markdown",
   "id": "7b00364a-39ce-4f81-934c-68fa13e79cb3",
   "metadata": {},
   "source": [
    "## Solution 2"
   ]
  },
  {
   "cell_type": "code",
   "execution_count": 14,
   "id": "03b2c493-b5b0-4b19-877f-f3153aff43d6",
   "metadata": {},
   "outputs": [
    {
     "data": {
      "text/plain": [
       "2"
      ]
     },
     "execution_count": 14,
     "metadata": {},
     "output_type": "execute_result"
    }
   ],
   "source": [
    "12321 % 10"
   ]
  },
  {
   "cell_type": "code",
   "execution_count": 15,
   "id": "4724f116-113e-4943-8076-68c0510bb2b7",
   "metadata": {},
   "outputs": [],
   "source": [
    "class Solution(object):\n",
    "    def isPalindrome(self, x):\n",
    "        \n",
    "        if x < 0 or (x != 0 and x % 10 == 0):\n",
    "            return False\n",
    "        half = 0\n",
    "        while x < half:\n",
    "            half = half + x % 10\n",
    "            x = x // 10\n",
    "            \n",
    "        if x == half or x == half // 10:\n",
    "            return True"
   ]
  },
  {
   "cell_type": "code",
   "execution_count": 28,
   "id": "1f130dfc-7a89-4658-ac3a-cf3dcbbb42b7",
   "metadata": {},
   "outputs": [],
   "source": [
    "def isPalindrome(x):\n",
    "\n",
    "    if x < 0 or (x != 0 and x % 10 == 0):\n",
    "        return False\n",
    "    \n",
    "    half = 0\n",
    "    \n",
    "    while x > half:\n",
    "        half = 10 * half + x % 10\n",
    "        x = x // 10\n",
    "\n",
    "    if x == half or x == half // 10:\n",
    "        return True\n",
    "    else:\n",
    "        return False"
   ]
  },
  {
   "cell_type": "code",
   "execution_count": 29,
   "id": "12a42c4e-4233-43f5-9291-cf337049062d",
   "metadata": {},
   "outputs": [
    {
     "name": "stdout",
     "output_type": "stream",
     "text": [
      "False\n"
     ]
    }
   ],
   "source": [
    "print(isPalindrome(x = 123))"
   ]
  },
  {
   "cell_type": "code",
   "execution_count": null,
   "id": "773df465-7615-4d7b-b8ec-5a406055cfd9",
   "metadata": {},
   "outputs": [],
   "source": []
  }
 ],
 "metadata": {
  "kernelspec": {
   "display_name": "Python 3 (ipykernel)",
   "language": "python",
   "name": "python3"
  },
  "language_info": {
   "codemirror_mode": {
    "name": "ipython",
    "version": 3
   },
   "file_extension": ".py",
   "mimetype": "text/x-python",
   "name": "python",
   "nbconvert_exporter": "python",
   "pygments_lexer": "ipython3",
   "version": "3.7.11"
  }
 },
 "nbformat": 4,
 "nbformat_minor": 5
}
