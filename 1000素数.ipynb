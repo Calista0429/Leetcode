{
 "cells": [
  {
   "cell_type": "markdown",
   "id": "f5afd710-990c-4c87-84a4-1af7f0cf7b32",
   "metadata": {},
   "source": [
    "### 1000 以内的素数"
   ]
  },
  {
   "cell_type": "code",
   "execution_count": 26,
   "id": "664c5da3-e26b-4f83-a7ef-20c83bd77b14",
   "metadata": {},
   "outputs": [],
   "source": [
    "def is_prime(n):\n",
    "    if n < 2:                           # 0と1は素数ではない\n",
    "        return False\n",
    "    for i in range(2, n):  \n",
    "        if n % i == 0:                   # 自分より小さい数で割り切れる場合\n",
    "            return False                 # 素数ではない\n",
    "    return True                          # 素数である"
   ]
  },
  {
   "cell_type": "code",
   "execution_count": 22,
   "id": "6037e8c5-a8b7-4c02-b3ca-b71e2d7021ac",
   "metadata": {},
   "outputs": [],
   "source": [
    "def is_prime(n):\n",
    "    if n < 2:                         # 0と1は素数ではない\n",
    "        return False\n",
    "    for i in range(2, int(n**0.5) + 1): \n",
    "        if n % i == 0:               # 自分より小さい数で割り切れる場合\n",
    "            return False            # 素数ではない\n",
    "    return True                     # 素数である\n",
    "\n",
    "prime = []\n",
    "for i in range(2, 1000 + 1): # 2から1000まで\n",
    "    if is_prime(i):\n",
    "        prime.append(i)\n",
    "print(prime)"
   ]
  },
  {
   "cell_type": "markdown",
   "id": "f4982ad3-fa0e-4ff7-a340-990008d3c406",
   "metadata": {},
   "source": [
    "       時間計算量            空間計算量      　\n",
    "方法１：O(n√n)                 O(n) 　　　　　\n",
    "方法２：O(n log log n)         O(n)\n",
    "\n",
    "　　　　　場面\t　　　　　　おすすめの手法\n",
    "小さな n（1000以下）\t　　両方OK、理解のために試し割り法も良い\n",
    "大きな n（10万以上）\t　　エラトステネスの篩がおすすめ \n",
    "実行速度を重視する場合\t　　エラトステネスの篩 "
   ]
  },
  {
   "cell_type": "code",
   "execution_count": 28,
   "id": "0b29408e-7cfa-42c3-8c6f-bab6a636a001",
   "metadata": {},
   "outputs": [
    {
     "data": {
      "text/plain": [
       "168"
      ]
     },
     "execution_count": 28,
     "metadata": {},
     "output_type": "execute_result"
    }
   ],
   "source": [
    "len(prime)"
   ]
  },
  {
   "cell_type": "code",
   "execution_count": 25,
   "id": "edd5330c-8fad-4f52-8cba-bbe39a367f26",
   "metadata": {},
   "outputs": [
    {
     "data": {
      "text/plain": [
       "[2, 3, 5, 7, 11]"
      ]
     },
     "execution_count": 25,
     "metadata": {},
     "output_type": "execute_result"
    }
   ],
   "source": [
    "prime[:5]"
   ]
  },
  {
   "cell_type": "code",
   "execution_count": 29,
   "id": "72afb5ef-5c91-476a-b5ac-4bf59df9c738",
   "metadata": {},
   "outputs": [
    {
     "name": "stdout",
     "output_type": "stream",
     "text": [
      "[2, 3, 5, 7, 11, 13, 17, 19, 23, 29, 31, 37, 41, 43, 47, 53, 59, 61, 67, 71, 73, 79, 83, 89, 97, 101, 103, 107, 109, 113]\n"
     ]
    }
   ],
   "source": [
    "def eratosthenes(n):\n",
    "    is_prime = [True] * (n + 1)  # 素数かどうかを表すリストを初期化（すべてTrue）\n",
    "    \n",
    "    for i in range(2, int(n ** 0.5) + 1):  # 2から√nまでループ\n",
    "        if is_prime[i]:  # iが素数ならば\n",
    "            for j in range(i * i, n + 1, i):  # iの倍数をすべて合成数としてマークする\n",
    "                is_prime[j] = False\n",
    "    \n",
    "    # Trueとして残っている数（2以上）が素数なので、それを取り出す\n",
    "    return [x for x in range(2, n + 1) if is_prime[x]]\n",
    "\n",
    "print(eratosthenes(1000))  # 120以下の素数を出力"
   ]
  },
  {
   "cell_type": "code",
   "execution_count": null,
   "id": "95238ee6-6446-4f9d-98a7-b6b3bec6bc1e",
   "metadata": {},
   "outputs": [],
   "source": []
  }
 ],
 "metadata": {
  "kernelspec": {
   "display_name": "Python 3 (ipykernel)",
   "language": "python",
   "name": "python3"
  },
  "language_info": {
   "codemirror_mode": {
    "name": "ipython",
    "version": 3
   },
   "file_extension": ".py",
   "mimetype": "text/x-python",
   "name": "python",
   "nbconvert_exporter": "python",
   "pygments_lexer": "ipython3",
   "version": "3.9.18"
  }
 },
 "nbformat": 4,
 "nbformat_minor": 5
}
