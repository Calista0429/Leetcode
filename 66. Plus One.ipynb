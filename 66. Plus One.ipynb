{
 "cells": [
  {
   "cell_type": "code",
   "execution_count": 19,
   "id": "01228635-0f7f-4363-a6c8-d703f8b31447",
   "metadata": {
    "tags": []
   },
   "outputs": [],
   "source": [
    "digits = [9,9,9]"
   ]
  },
  {
   "cell_type": "code",
   "execution_count": 6,
   "id": "da5c0661-7ced-4b48-a67f-f8263c824571",
   "metadata": {
    "tags": []
   },
   "outputs": [
    {
     "name": "stdout",
     "output_type": "stream",
     "text": [
      "[9, 9, 10]\n",
      "[1, 9, 9, 0]\n",
      "[9, 10, 0]\n",
      "[1, 9, 0, 0]\n",
      "[10, 0, 0]\n",
      "[1, 0, 0, 0]\n"
     ]
    }
   ],
   "source": [
    "for i in range(len(digits) -1,-1,-1):\n",
    "    if digits[i] + 1 != 0:\n",
    "        digits[i] += 1\n",
    "        print(digits)\n",
    "    digits[i] = 0\n",
    "    \n",
    "    print([1] + digits) "
   ]
  },
  {
   "cell_type": "code",
   "execution_count": 20,
   "id": "61384252-e720-4963-91e5-4907a2c7330e",
   "metadata": {
    "tags": []
   },
   "outputs": [],
   "source": [
    "def plusOne(digits):\n",
    "    for i in range(len(digits) -1,-1,-1):\n",
    "        if digits[i] + 1 != 10:\n",
    "            digits[i] += 1\n",
    "            return digits\n",
    "        digits[i] = 0\n",
    "\n",
    "    return [1] + digits "
   ]
  },
  {
   "cell_type": "code",
   "execution_count": 21,
   "id": "633d72bb-5c7e-4938-a294-6ed063b698c9",
   "metadata": {
    "tags": []
   },
   "outputs": [
    {
     "data": {
      "text/plain": [
       "[1, 0, 0, 0]"
      ]
     },
     "execution_count": 21,
     "metadata": {},
     "output_type": "execute_result"
    }
   ],
   "source": [
    "plusOne(digits)"
   ]
  },
  {
   "cell_type": "code",
   "execution_count": 24,
   "id": "f0ddb755-8567-4c05-a0fd-bb8c2f28e679",
   "metadata": {
    "tags": []
   },
   "outputs": [],
   "source": [
    "nums = [1,2,3,4,5]"
   ]
  },
  {
   "cell_type": "code",
   "execution_count": 26,
   "id": "34e05cfd-131f-4108-a7f9-186230e403c9",
   "metadata": {
    "tags": []
   },
   "outputs": [
    {
     "data": {
      "text/plain": [
       "[3, 4, 5]"
      ]
     },
     "execution_count": 26,
     "metadata": {},
     "output_type": "execute_result"
    }
   ],
   "source": [
    "nums[2:]"
   ]
  }
 ],
 "metadata": {
  "kernelspec": {
   "display_name": "Python 3 (ipykernel)",
   "language": "python",
   "name": "python3"
  },
  "language_info": {
   "codemirror_mode": {
    "name": "ipython",
    "version": 3
   },
   "file_extension": ".py",
   "mimetype": "text/x-python",
   "name": "python",
   "nbconvert_exporter": "python",
   "pygments_lexer": "ipython3",
   "version": "3.7.11"
  }
 },
 "nbformat": 4,
 "nbformat_minor": 5
}
