{
 "cells": [
  {
   "cell_type": "code",
   "execution_count": 1,
   "id": "9a98337a-513e-4923-bd76-cfa81edcbb21",
   "metadata": {
    "tags": []
   },
   "outputs": [],
   "source": [
    "n = 11\n",
    "output = 3"
   ]
  },
  {
   "cell_type": "code",
   "execution_count": 8,
   "id": "6d11a52a-3109-4718-a1d6-b2eac68a0600",
   "metadata": {
    "tags": []
   },
   "outputs": [],
   "source": [
    "string = str(bin(11)).replace(\"0b\",\"\").count(1)"
   ]
  },
  {
   "cell_type": "code",
   "execution_count": 9,
   "id": "94630e02-4f84-4773-bf27-9b60d30e2140",
   "metadata": {
    "tags": []
   },
   "outputs": [
    {
     "data": {
      "text/plain": [
       "0"
      ]
     },
     "execution_count": 9,
     "metadata": {},
     "output_type": "execute_result"
    }
   ],
   "source": [
    "string"
   ]
  },
  {
   "cell_type": "code",
   "execution_count": 14,
   "id": "1506fe0c-d7d2-4bbd-ab1e-727b1bf0c724",
   "metadata": {
    "tags": []
   },
   "outputs": [],
   "source": [
    "alist = list(str(bin(11)).replace(\"0b\",\"\"))"
   ]
  }
 ],
 "metadata": {
  "kernelspec": {
   "display_name": "Python 3 (ipykernel)",
   "language": "python",
   "name": "python3"
  },
  "language_info": {
   "codemirror_mode": {
    "name": "ipython",
    "version": 3
   },
   "file_extension": ".py",
   "mimetype": "text/x-python",
   "name": "python",
   "nbconvert_exporter": "python",
   "pygments_lexer": "ipython3",
   "version": "3.7.11"
  }
 },
 "nbformat": 4,
 "nbformat_minor": 5
}
