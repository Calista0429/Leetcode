{
 "cells": [
  {
   "cell_type": "code",
   "execution_count": 33,
   "id": "7b9249be-177f-4053-8030-1a36eae00053",
   "metadata": {},
   "outputs": [],
   "source": [
    "from collections import Counter"
   ]
  },
  {
   "cell_type": "code",
   "execution_count": 44,
   "id": "2824a66b-803e-4737-b63f-2e526d3c681e",
   "metadata": {},
   "outputs": [],
   "source": [
    "s = \"anagram\"\n",
    "t = \"nagaram\""
   ]
  },
  {
   "cell_type": "code",
   "execution_count": 42,
   "id": "a809de49-783a-4805-98d6-4d9ef0ec599e",
   "metadata": {},
   "outputs": [],
   "source": [
    "s = \"rat\"\n",
    "t = \"car\""
   ]
  },
  {
   "cell_type": "code",
   "execution_count": 7,
   "id": "c3c12c64-730d-4296-bc8c-d416afd81790",
   "metadata": {},
   "outputs": [
    {
     "data": {
      "text/plain": [
       "False"
      ]
     },
     "execution_count": 7,
     "metadata": {},
     "output_type": "execute_result"
    }
   ],
   "source": [
    "set(s) == set(t)"
   ]
  },
  {
   "cell_type": "code",
   "execution_count": 48,
   "id": "55a869df-5185-4b40-a5b5-56822ad53990",
   "metadata": {},
   "outputs": [],
   "source": [
    "def isAnagram(s, t):\n",
    "    # ##Solution A\n",
    "    # return Counter(s) == Counter(t)\n",
    "\n",
    "    # # Solution B\n",
    "    return sorted(s) == sorted(t)\n",
    "\n",
    "    #Solution C\n",
    "    # count = {}\n",
    "    # for ch in s:\n",
    "    #     count[ch] = count.get(ch, 0) + 1 #0表示从0开始统计\n",
    "    # for ch in t:\n",
    "    #     if ch not in count:\n",
    "    #         return False\n",
    "    #     count[ch] -= 1\n",
    "    #     if count[ch] < 0:\n",
    "    #         return False\n",
    "    # return True"
   ]
  },
  {
   "cell_type": "code",
   "execution_count": 49,
   "id": "eb215afc-296d-4637-94db-f077857c4345",
   "metadata": {},
   "outputs": [
    {
     "data": {
      "text/plain": [
       "True"
      ]
     },
     "execution_count": 49,
     "metadata": {},
     "output_type": "execute_result"
    }
   ],
   "source": [
    "isAnagram(s, t)"
   ]
  },
  {
   "cell_type": "code",
   "execution_count": null,
   "id": "e34ce9f4-8379-49d6-9725-bccce2972301",
   "metadata": {},
   "outputs": [],
   "source": []
  }
 ],
 "metadata": {
  "kernelspec": {
   "display_name": "Python 3 (ipykernel)",
   "language": "python",
   "name": "python3"
  },
  "language_info": {
   "codemirror_mode": {
    "name": "ipython",
    "version": 3
   },
   "file_extension": ".py",
   "mimetype": "text/x-python",
   "name": "python",
   "nbconvert_exporter": "python",
   "pygments_lexer": "ipython3",
   "version": "3.13.2"
  }
 },
 "nbformat": 4,
 "nbformat_minor": 5
}
