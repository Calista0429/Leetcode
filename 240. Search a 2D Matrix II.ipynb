{
 "cells": [
  {
   "cell_type": "code",
   "execution_count": null,
   "id": "3b78f5ec-21cb-4091-917d-8f4a402f219a",
   "metadata": {},
   "outputs": [],
   "source": [
    "class Solution(object):\n",
    "    def searchMatrix(self, matrix, target):\n",
    "        \"\"\"\n",
    "        :type matrix: List[List[int]]\n",
    "        :type target: int\n",
    "        :rtype: bool\n",
    "        \"\"\"\n",
    "        # Solution 1\n",
    "        # for i in matrix:\n",
    "        #     if target in i:\n",
    "        #         return True\n",
    "        # return False\n",
    "        \n",
    "        #Solution 2\n",
    "        for nums in matrix:\n",
    "\n",
    "            left = 0\n",
    "            right = len(matrix[0]) - 1\n",
    "\n",
    "            while left <= right:\n",
    "                mid = (left + right) // 2\n",
    "\n",
    "                if nums[mid] == target:\n",
    "                    return True\n",
    "                elif nums[mid] > target:\n",
    "                    right = mid - 1\n",
    "                else:\n",
    "                    left = mid + 1\n",
    "        return False"
   ]
  }
 ],
 "metadata": {
  "kernelspec": {
   "display_name": "Python 3 (ipykernel)",
   "language": "python",
   "name": "python3"
  },
  "language_info": {
   "codemirror_mode": {
    "name": "ipython",
    "version": 3
   },
   "file_extension": ".py",
   "mimetype": "text/x-python",
   "name": "python",
   "nbconvert_exporter": "python",
   "pygments_lexer": "ipython3",
   "version": "3.9.18"
  }
 },
 "nbformat": 4,
 "nbformat_minor": 5
}
