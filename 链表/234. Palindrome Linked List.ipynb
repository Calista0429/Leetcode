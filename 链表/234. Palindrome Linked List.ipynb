{
 "cells": [
  {
   "cell_type": "code",
   "execution_count": null,
   "id": "d163f572-42bd-47ba-97c8-71c7604e3c0c",
   "metadata": {},
   "outputs": [],
   "source": [
    "# Definition for singly-linked list.\n",
    "# class ListNode(object):\n",
    "#     def __init__(self, val=0, next=None):\n",
    "#         self.val = val\n",
    "#         self.next = next\n",
    "class Solution(object):\n",
    "    def isPalindrome(self, head):\n",
    "        \"\"\"\n",
    "        :type head: Optional[ListNode]\n",
    "        :rtype: bool\n",
    "        \"\"\"\n",
    "        #array solution\n",
    "        # nums = []\n",
    "        # while head:\n",
    "        #     nums.append(head.val)\n",
    "        #     head = head.next\n",
    "        # if nums == nums[::-1]:\n",
    "        #     return True\n",
    "        # return False\n",
    "        fast = head\n",
    "        slow = head\n",
    "        #find the middle\n",
    "        while fast and fast.next:\n",
    "            fast = fast.next.next\n",
    "            slow = slow.next\n",
    "        \n",
    "        #reverse second half\n",
    "        node = None\n",
    "        while slow:\n",
    "            temp = slow.next\n",
    "            slow.next = node\n",
    "            node = slow\n",
    "            slow = temp\n",
    "        \n",
    "        #check Palindrome\n",
    "        left, right = head, node\n",
    "        while right:\n",
    "            if left.val !=right.val:\n",
    "                return False\n",
    "            left = left.next\n",
    "            right = right.next\n",
    "        return True"
   ]
  }
 ],
 "metadata": {
  "kernelspec": {
   "display_name": "Python 3 (ipykernel)",
   "language": "python",
   "name": "python3"
  },
  "language_info": {
   "codemirror_mode": {
    "name": "ipython",
    "version": 3
   },
   "file_extension": ".py",
   "mimetype": "text/x-python",
   "name": "python",
   "nbconvert_exporter": "python",
   "pygments_lexer": "ipython3",
   "version": "3.9.18"
  }
 },
 "nbformat": 4,
 "nbformat_minor": 5
}
