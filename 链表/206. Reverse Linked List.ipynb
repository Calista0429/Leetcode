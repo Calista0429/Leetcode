{
 "cells": [
  {
   "cell_type": "code",
   "execution_count": 1,
   "id": "fb6855cb-f24f-4c43-b083-e3fe1b43cc80",
   "metadata": {},
   "outputs": [],
   "source": [
    "# Definition for singly-linked list.\n",
    "# class ListNode(object):\n",
    "#     def __init__(self, val=0, next=None):\n",
    "#         self.val = val\n",
    "#         self.next = next\n",
    "class Solution(object):\n",
    "    def reverseList(self, head):\n",
    "        \"\"\"\n",
    "        :type head: Optional[ListNode]\n",
    "        :rtype: Optional[ListNode]\n",
    "        \"\"\"\n",
    "        node = None\n",
    "        # 1->2->3\n",
    "        while head:\n",
    "            temp = head.next #temp = 2->3             \n",
    "            head.next = node #head.next = 1-> = node = None = 1->None \n",
    "            node = head# node = head = 1 \n",
    "            head = temp# head = temp = 2->3\n",
    "        return node"
   ]
  },
  {
   "cell_type": "code",
   "execution_count": null,
   "id": "3016d128-a9a5-4d83-b1be-63008a8875d0",
   "metadata": {},
   "outputs": [],
   "source": []
  }
 ],
 "metadata": {
  "kernelspec": {
   "display_name": "Python 3 (ipykernel)",
   "language": "python",
   "name": "python3"
  },
  "language_info": {
   "codemirror_mode": {
    "name": "ipython",
    "version": 3
   },
   "file_extension": ".py",
   "mimetype": "text/x-python",
   "name": "python",
   "nbconvert_exporter": "python",
   "pygments_lexer": "ipython3",
   "version": "3.9.18"
  }
 },
 "nbformat": 4,
 "nbformat_minor": 5
}
