{
 "cells": [
  {
   "cell_type": "code",
   "execution_count": 1,
   "id": "f06bb9b4-8363-46de-b552-cd53a85d0cf0",
   "metadata": {},
   "outputs": [],
   "source": [
    "# Definition for singly-linked list.\n",
    "# class ListNode(object):\n",
    "#     def __init__(self, val=0, next=None):\n",
    "#         self.val = val\n",
    "#         self.next = next\n",
    "class Solution(object):\n",
    "    def deleteDuplicates(self, head):\n",
    "        \"\"\"\n",
    "        :type head: Optional[ListNode]\n",
    "        :rtype: Optional[ListNode]\n",
    "        \"\"\"\n",
    "        res = head\n",
    "        while head and head.next:\n",
    "            if head.next.val == head.val:\n",
    "                #如果当前节点的值和下一个节点的值相同，那么需要把链子链接到下下个节点\n",
    "                head.next = head.next.next\n",
    "            else:\n",
    "                #如果不同，就将当前节点移动到下一个节点\n",
    "                head = head.next\n",
    "        return res"
   ]
  },
  {
   "cell_type": "code",
   "execution_count": null,
   "id": "bdf090cf-2ad6-4e0e-a50d-24c20db2be59",
   "metadata": {},
   "outputs": [],
   "source": []
  }
 ],
 "metadata": {
  "kernelspec": {
   "display_name": "Python 3 (ipykernel)",
   "language": "python",
   "name": "python3"
  },
  "language_info": {
   "codemirror_mode": {
    "name": "ipython",
    "version": 3
   },
   "file_extension": ".py",
   "mimetype": "text/x-python",
   "name": "python",
   "nbconvert_exporter": "python",
   "pygments_lexer": "ipython3",
   "version": "3.7.11"
  }
 },
 "nbformat": 4,
 "nbformat_minor": 5
}
