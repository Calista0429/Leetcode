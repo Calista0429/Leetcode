{
 "cells": [
  {
   "cell_type": "code",
   "execution_count": null,
   "id": "d1a4efd5-7ace-4b0b-872d-fb3dba63551a",
   "metadata": {},
   "outputs": [],
   "source": [
    "# Definition for singly-linked list.\n",
    "# class ListNode(object):\n",
    "#     def __init__(self, val=0, next=None):\n",
    "#         self.val = val\n",
    "#         self.next = next\n",
    "class Solution(object):\n",
    "    def reverseBetween(self, head, left, right):\n",
    "        \"\"\"\n",
    "        :type head: Optional[ListNode]\n",
    "        :type left: int\n",
    "        :type right: int\n",
    "        :rtype: Optional[ListNode]\n",
    "        \"\"\"\n",
    "\n",
    "        if not head or left == right:\n",
    "            return head\n",
    "        dummy = ListNode(0,head)\n",
    "        prev = dummy\n",
    "\n",
    "        for _ in range(left - 1):\n",
    "            prev = prev.next\n",
    "        \n",
    "        cur = prev.next\n",
    "        for _ in range(right - left):\n",
    "            temp = cur.next\n",
    "            cur.next = temp.next\n",
    "            temp.next = prev.next\n",
    "            prev.next = temp\n",
    "        return dummy.next"
   ]
  }
 ],
 "metadata": {
  "kernelspec": {
   "display_name": "Python 3 (ipykernel)",
   "language": "python",
   "name": "python3"
  },
  "language_info": {
   "codemirror_mode": {
    "name": "ipython",
    "version": 3
   },
   "file_extension": ".py",
   "mimetype": "text/x-python",
   "name": "python",
   "nbconvert_exporter": "python",
   "pygments_lexer": "ipython3",
   "version": "3.9.18"
  }
 },
 "nbformat": 4,
 "nbformat_minor": 5
}
