{
 "cells": [
  {
   "cell_type": "code",
   "execution_count": null,
   "id": "6126744c-5959-4484-b825-26517b0ae461",
   "metadata": {},
   "outputs": [],
   "source": [
    "class Solution(object):\n",
    "    def sortList(self, head):\n",
    "        \"\"\"\n",
    "        :type head: Optional[ListNode]\n",
    "        :rtype: Optional[ListNode]\n",
    "        \"\"\"\n",
    "        if not head or not head.next:\n",
    "            return head\n",
    "        slow, fast = head, head.next\n",
    "        while fast and fast.next:\n",
    "            fast = fast.next.next\n",
    "            slow = slow.next\n",
    "        mid = slow.next\n",
    "        slow.next = None\n",
    "\n",
    "        left = self.sortList(head)\n",
    "        right = self.sortList(mid)\n",
    "\n",
    "        return self.merge(left,right)\n",
    "    def merge(self, l1, l2):\n",
    "        dummy = ListNode(0)\n",
    "        tail = dummy\n",
    "        while l1 and l2:\n",
    "            # 2->4 1->3\n",
    "            if l1.val < l2.val:\n",
    "                \n",
    "                tail.next, l1 = l1, l1.next\n",
    "            else:\n",
    "                # 0 -> 1 -> 3.      3\n",
    "                tail.next, l2 = l2, l2.next\n",
    "            # tail = 1 -> 3\n",
    "            tail = tail.next\n",
    "        tail.next = l1 if l1 else l2\n",
    "        return dummy.next"
   ]
  }
 ],
 "metadata": {
  "kernelspec": {
   "display_name": "Python 3 (ipykernel)",
   "language": "python",
   "name": "python3"
  },
  "language_info": {
   "codemirror_mode": {
    "name": "ipython",
    "version": 3
   },
   "file_extension": ".py",
   "mimetype": "text/x-python",
   "name": "python",
   "nbconvert_exporter": "python",
   "pygments_lexer": "ipython3",
   "version": "3.7.11"
  }
 },
 "nbformat": 4,
 "nbformat_minor": 5
}
