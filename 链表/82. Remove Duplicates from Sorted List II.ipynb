{
 "cells": [
  {
   "cell_type": "code",
   "execution_count": 2,
   "id": "e135f929-b99b-4e32-ac20-85ae32e3da98",
   "metadata": {},
   "outputs": [],
   "source": [
    "# Definition for singly-linked list.\n",
    "# class ListNode(object):\n",
    "#     def __init__(self, val=0, next=None):\n",
    "#         self.val = val\n",
    "#         self.next = next\n",
    "class Solution(object):\n",
    "    def deleteDuplicates(self, head):\n",
    "        \"\"\"\n",
    "        :type head: Optional[ListNode]\n",
    "        :rtype: Optional[ListNode]\n",
    "        \"\"\"\n",
    "        pre = ListNode(0,head)\n",
    "        ans = pre\n",
    "        while head and head.next:\n",
    "            if head.val == head.next.val:\n",
    "                while head.next and head.val == head.next.val:\n",
    "                    head = head.next\n",
    "                #这里要注意的是，把head.next赋值给pre.next不会让pre移动，pre还是在原来的位置\n",
    "                pre.next = head.next\n",
    "            else:\n",
    "                pre = pre.next\n",
    "            head = head.next\n",
    "        return ans.next"
   ]
  },
  {
   "cell_type": "code",
   "execution_count": null,
   "id": "823c53b9-6490-4cc7-b487-ba098a567e87",
   "metadata": {},
   "outputs": [],
   "source": []
  }
 ],
 "metadata": {
  "kernelspec": {
   "display_name": "Python 3 (ipykernel)",
   "language": "python",
   "name": "python3"
  },
  "language_info": {
   "codemirror_mode": {
    "name": "ipython",
    "version": 3
   },
   "file_extension": ".py",
   "mimetype": "text/x-python",
   "name": "python",
   "nbconvert_exporter": "python",
   "pygments_lexer": "ipython3",
   "version": "3.9.18"
  }
 },
 "nbformat": 4,
 "nbformat_minor": 5
}
