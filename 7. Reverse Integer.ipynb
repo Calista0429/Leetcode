{
 "cells": [
  {
   "cell_type": "code",
   "execution_count": 15,
   "id": "268ed2fa-a3d0-421a-866d-b25263ef3ebb",
   "metadata": {},
   "outputs": [],
   "source": [
    "x = -123\n",
    "output = 321\n",
    "changestr = str(x)"
   ]
  },
  {
   "cell_type": "code",
   "execution_count": 17,
   "id": "c23249a1-b499-48da-95fa-de5a63def891",
   "metadata": {},
   "outputs": [],
   "source": [
    "if x < 0:    \n",
    "    a = int('-' + changestr[::-1][:len(changestr)-1])\n",
    "else:\n",
    "    a = int(str(x)[::-1])"
   ]
  },
  {
   "cell_type": "code",
   "execution_count": 14,
   "id": "d0616b66-1590-49dd-9523-23999fd3d07c",
   "metadata": {},
   "outputs": [
    {
     "data": {
      "text/plain": [
       "'321'"
      ]
     },
     "execution_count": 14,
     "metadata": {},
     "output_type": "execute_result"
    }
   ],
   "source": [
    "changestr[::-1][:len(changestr)-1]"
   ]
  },
  {
   "cell_type": "code",
   "execution_count": 18,
   "id": "0aa79367-bd5b-4210-a879-4524d832aa7c",
   "metadata": {},
   "outputs": [
    {
     "data": {
      "text/plain": [
       "-321"
      ]
     },
     "execution_count": 18,
     "metadata": {},
     "output_type": "execute_result"
    }
   ],
   "source": [
    "a"
   ]
  },
  {
   "cell_type": "code",
   "execution_count": 19,
   "id": "c9268eee-125e-40cd-9657-5cbe7aab99b8",
   "metadata": {},
   "outputs": [
    {
     "data": {
      "text/plain": [
       "2147483648"
      ]
     },
     "execution_count": 19,
     "metadata": {},
     "output_type": "execute_result"
    }
   ],
   "source": [
    "2**31"
   ]
  },
  {
   "cell_type": "code",
   "execution_count": 23,
   "id": "16ca6c99-f631-4248-b67d-46961e425d99",
   "metadata": {},
   "outputs": [
    {
     "data": {
      "text/plain": [
       "True"
      ]
     },
     "execution_count": 23,
     "metadata": {},
     "output_type": "execute_result"
    }
   ],
   "source": [
    "x = 9646324351\n",
    "x < (-2)**31 or x > 2**31 - 1"
   ]
  },
  {
   "cell_type": "code",
   "execution_count": 26,
   "id": "6e3b5a6c-2365-4843-a826-66022963a506",
   "metadata": {},
   "outputs": [
    {
     "name": "stdout",
     "output_type": "stream",
     "text": [
      "1534236469\n"
     ]
    }
   ],
   "source": [
    "changestr = str(x)\n",
    "if x < 0:    \n",
    "    reverse =  (int('-' + changestr[::-1][:len(changestr)-1]))\n",
    "else:\n",
    "    reverse = (int(str(x)[::-1]))\n",
    "if reverse >= (-2)**31 and reverse < 2**31 - 1:\n",
    "    print (reverse )"
   ]
  },
  {
   "cell_type": "code",
   "execution_count": null,
   "id": "11018817-7880-490e-8e2c-07922c434c72",
   "metadata": {},
   "outputs": [],
   "source": []
  }
 ],
 "metadata": {
  "kernelspec": {
   "display_name": "Python 3 (ipykernel)",
   "language": "python",
   "name": "python3"
  },
  "language_info": {
   "codemirror_mode": {
    "name": "ipython",
    "version": 3
   },
   "file_extension": ".py",
   "mimetype": "text/x-python",
   "name": "python",
   "nbconvert_exporter": "python",
   "pygments_lexer": "ipython3",
   "version": "3.9.18"
  }
 },
 "nbformat": 4,
 "nbformat_minor": 5
}
