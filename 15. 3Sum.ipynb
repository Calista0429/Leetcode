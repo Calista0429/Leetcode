{
 "cells": [
  {
   "cell_type": "code",
   "execution_count": null,
   "id": "909e84a7-9dfd-4b74-84f9-f428e50e377d",
   "metadata": {},
   "outputs": [],
   "source": [
    "class Solution(object):\n",
    "    def threeSum(self, nums):\n",
    "        \"\"\"\n",
    "        :type nums: List[int]\n",
    "        :rtype: List[List[int]]\n",
    "        \"\"\"\n",
    "        res = []\n",
    "        nums.sort()\n",
    "        for i in range(len(nums)):\n",
    "            if i > 0 and nums[i] == nums[i-1]:  #去重操作，例如[-1, -1, -1, 0, 1, 1, 2]，不去重的话会出现很多重复的[-1,0,-1]\n",
    "\n",
    "                continue\n",
    "            j = i + 1\n",
    "            k = len(nums) - 1\n",
    "            while j < k:\n",
    "                total = nums[i] + nums[j] + nums[k]\n",
    "                if total > 0:\n",
    "                    k -= 1\n",
    "                elif total < 0:\n",
    "                    j += 1\n",
    "                else:\n",
    "                     res.append([nums[i], nums[j], nums[k]])\n",
    "                     j += 1\n",
    "                     while nums[j] == nums[j - 1] and j < k: #这里也是去重，不过是对j去重，也就是i后面的\n",
    "                        j += 1\n",
    "        return res"
   ]
  }
 ],
 "metadata": {
  "kernelspec": {
   "display_name": "Python 3 (ipykernel)",
   "language": "python",
   "name": "python3"
  },
  "language_info": {
   "codemirror_mode": {
    "name": "ipython",
    "version": 3
   },
   "file_extension": ".py",
   "mimetype": "text/x-python",
   "name": "python",
   "nbconvert_exporter": "python",
   "pygments_lexer": "ipython3",
   "version": "3.9.18"
  }
 },
 "nbformat": 4,
 "nbformat_minor": 5
}
