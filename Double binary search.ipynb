{
 "cells": [
  {
   "cell_type": "code",
   "execution_count": 1,
   "id": "15623352-9ca5-45a0-aaaa-5243ecfd4248",
   "metadata": {},
   "outputs": [],
   "source": [
    "class Solution(object):\n",
    "    def searchRange(self, nums, target):\n",
    "        \"\"\"\n",
    "        :type nums: List[int]\n",
    "        :type target: int\n",
    "        :rtype: List[int]\n",
    "        \"\"\"\n",
    "        left = 0\n",
    "        right = len(nums) - 1\n",
    "        \n",
    "        def binary_search(left, right, is_researching_left):\n",
    "            idx = -1\n",
    "            while left <= right:\n",
    "                mid = (left + right) // 2\n",
    "                if nums[mid] > target:\n",
    "                    right = mid - 1\n",
    "                elif nums[mid] < target:\n",
    "                    left += 1\n",
    "                else:\n",
    "                    idx = mid\n",
    "                    if is_researching_left:\n",
    "                        right = mid - 1\n",
    "                    else:\n",
    "                        left = mid + 1\n",
    "            return idx\n",
    "        return [binary_search(left, right, True), binary_search(left, right, False)]"
   ]
  },
  {
   "cell_type": "code",
   "execution_count": null,
   "id": "e56e02fe-21a3-43f4-9fc7-950144ebd5d6",
   "metadata": {},
   "outputs": [],
   "source": []
  }
 ],
 "metadata": {
  "kernelspec": {
   "display_name": "Python 3 (ipykernel)",
   "language": "python",
   "name": "python3"
  },
  "language_info": {
   "codemirror_mode": {
    "name": "ipython",
    "version": 3
   },
   "file_extension": ".py",
   "mimetype": "text/x-python",
   "name": "python",
   "nbconvert_exporter": "python",
   "pygments_lexer": "ipython3",
   "version": "3.8.20"
  }
 },
 "nbformat": 4,
 "nbformat_minor": 5
}
