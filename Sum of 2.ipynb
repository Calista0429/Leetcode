{
 "cells": [
  {
   "cell_type": "code",
   "execution_count": 1,
   "id": "8283be77-fe09-4b22-8fa9-75eaf93753ae",
   "metadata": {},
   "outputs": [],
   "source": [
    "class Solution(object):\n",
    "    def twoSum(self, nums, target):\n",
    "        \"\"\"\n",
    "        :type nums: List[int]\n",
    "        :type target: int\n",
    "        :rtype: List[int]\n",
    "        \"\"\"\n",
    "        # for i in range(len(nums)-1):\n",
    "        #     for j in range(i+1, len(nums)):\n",
    "        #         if nums[i] + nums[j] == target:\n",
    "        #             return [i,j]\n",
    "        # return []\n",
    "        num_to_index = {}\n",
    "        \n",
    "        for i, num in enumerate(nums):\n",
    "            complement = target - num\n",
    "            if complement in num_to_index:\n",
    "                return [num_to_index[complement], i]\n",
    "            num_to_index[num] = i\n",
    "        \n",
    "        return []"
   ]
  },
  {
   "cell_type": "code",
   "execution_count": 4,
   "id": "42553842-bbc8-42eb-a964-fc66731d3104",
   "metadata": {},
   "outputs": [
    {
     "name": "stdout",
     "output_type": "stream",
     "text": [
      "[0, 1]\n"
     ]
    }
   ],
   "source": [
    "nums = [2,7,11,15]\n",
    "num_to_index = {}\n",
    "target = 9\n",
    "\n",
    "for i, num in enumerate(nums):\n",
    "    complement = target - num\n",
    "    if complement in num_to_index:\n",
    "        print([num_to_index[complement], i]) \n",
    "    num_to_index[num] = i"
   ]
  },
  {
   "cell_type": "code",
   "execution_count": 5,
   "id": "a9a2da7c-ce50-4a6f-9d6a-45d5e1ce8225",
   "metadata": {},
   "outputs": [
    {
     "data": {
      "text/plain": [
       "{2: 0, 7: 1, 11: 2, 15: 3}"
      ]
     },
     "execution_count": 5,
     "metadata": {},
     "output_type": "execute_result"
    }
   ],
   "source": [
    "num_to_index"
   ]
  },
  {
   "cell_type": "code",
   "execution_count": null,
   "id": "c59aba57-1e4b-4d7f-88da-ea20823a5bda",
   "metadata": {},
   "outputs": [],
   "source": []
  }
 ],
 "metadata": {
  "kernelspec": {
   "display_name": "Python 3 (ipykernel)",
   "language": "python",
   "name": "python3"
  },
  "language_info": {
   "codemirror_mode": {
    "name": "ipython",
    "version": 3
   },
   "file_extension": ".py",
   "mimetype": "text/x-python",
   "name": "python",
   "nbconvert_exporter": "python",
   "pygments_lexer": "ipython3",
   "version": "3.7.11"
  }
 },
 "nbformat": 4,
 "nbformat_minor": 5
}
