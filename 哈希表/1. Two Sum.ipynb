{
 "cells": [
  {
   "cell_type": "markdown",
   "id": "d672c29c-f81f-4fee-a78f-ac461229e4c7",
   "metadata": {},
   "source": [
    "这道题就是将数组中的数字存储到哈希表里，键是数字，值是索引，当找到complement的时候，返回complement在哈希表中的位置和当前的索引"
   ]
  },
  {
   "cell_type": "code",
   "execution_count": 10,
   "id": "b34bb867-db6e-494e-96f8-95afc3631ce2",
   "metadata": {},
   "outputs": [],
   "source": [
    "hash_map = {}\n",
    "arr = [2,7,11,15]\n",
    "def twoSum(nums, target):\n",
    "    for index,num in enumerate(arr):\n",
    "        complement = target - num\n",
    "        if complement in hash_map:\n",
    "            return [hash_map[complement],index]\n",
    "        hash_map[num] = index"
   ]
  },
  {
   "cell_type": "code",
   "execution_count": 11,
   "id": "c39a6291-101a-41db-b755-369095fe1a44",
   "metadata": {},
   "outputs": [
    {
     "data": {
      "text/plain": [
       "[0, 1]"
      ]
     },
     "execution_count": 11,
     "metadata": {},
     "output_type": "execute_result"
    }
   ],
   "source": [
    "twoSum(nums = arr,target = 9)"
   ]
  }
 ],
 "metadata": {
  "kernelspec": {
   "display_name": "Python 3 (ipykernel)",
   "language": "python",
   "name": "python3"
  },
  "language_info": {
   "codemirror_mode": {
    "name": "ipython",
    "version": 3
   },
   "file_extension": ".py",
   "mimetype": "text/x-python",
   "name": "python",
   "nbconvert_exporter": "python",
   "pygments_lexer": "ipython3",
   "version": "3.9.18"
  }
 },
 "nbformat": 4,
 "nbformat_minor": 5
}
