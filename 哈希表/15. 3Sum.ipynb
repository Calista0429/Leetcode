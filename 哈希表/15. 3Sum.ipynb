{
 "cells": [
  {
   "cell_type": "code",
   "execution_count": null,
   "id": "7836714d-656b-4d0e-86b9-9eda3b43af9a",
   "metadata": {},
   "outputs": [],
   "source": [
    "class Solution(object):\n",
    "    def threeSum(self, nums):\n",
    "        \"\"\"\n",
    "        :type nums: List[int]\n",
    "        :rtype: List[List[int]]\n",
    "        \"\"\""
   ]
  },
  {
   "cell_type": "code",
   "execution_count": 17,
   "id": "fa7c067a-d8e9-42ea-8b08-6fdbc8632eb2",
   "metadata": {},
   "outputs": [],
   "source": [
    "def threeSum(nums):\n",
    "    res = set()\n",
    "    nums.sort()\n",
    "    for i in range(len(nums)):\n",
    "        if i > 0 and nums[i] == nums[i - 1]:\n",
    "            continue\n",
    "        target = -nums[i]\n",
    "        seen = set()\n",
    "        for j in range(i+1, len(nums)):\n",
    "            complement = target - nums[j]\n",
    "            if complement in seen:\n",
    "                return res.add((nums[i], complement, nums[j]))\n",
    "            seen.add(nums[j])\n",
    "    return list(res)        "
   ]
  },
  {
   "cell_type": "code",
   "execution_count": 18,
   "id": "e21a6203-410b-4592-8c23-db0bb5430a47",
   "metadata": {},
   "outputs": [],
   "source": [
    "threeSum([-1,0,1,2,-1,-4])"
   ]
  },
  {
   "cell_type": "code",
   "execution_count": 19,
   "id": "b6cbe1dd-39cc-4553-95ef-07671678154a",
   "metadata": {},
   "outputs": [],
   "source": [
    "row = ['adshij']"
   ]
  },
  {
   "cell_type": "code",
   "execution_count": 20,
   "id": "2b174131-0702-4822-a482-cd8ed7c4bab1",
   "metadata": {},
   "outputs": [
    {
     "data": {
      "text/plain": [
       "'adshij'"
      ]
     },
     "execution_count": 20,
     "metadata": {},
     "output_type": "execute_result"
    }
   ],
   "source": [
    "''.join(row)"
   ]
  },
  {
   "cell_type": "code",
   "execution_count": 21,
   "id": "e323858f-5ec0-47d5-9384-16cc58d3a489",
   "metadata": {},
   "outputs": [],
   "source": [
    "rows = [''] * 4"
   ]
  },
  {
   "cell_type": "code",
   "execution_count": 22,
   "id": "f619f2f7-2071-4ec4-a5ce-46642c917787",
   "metadata": {},
   "outputs": [
    {
     "data": {
      "text/plain": [
       "['', '', '', '']"
      ]
     },
     "execution_count": 22,
     "metadata": {},
     "output_type": "execute_result"
    }
   ],
   "source": [
    "rows"
   ]
  },
  {
   "cell_type": "code",
   "execution_count": 24,
   "id": "ae0cb974-eeed-48e4-b49d-9b1e8056208c",
   "metadata": {},
   "outputs": [],
   "source": [
    "num = [2,2,1]"
   ]
  },
  {
   "cell_type": "code",
   "execution_count": 26,
   "id": "de227b61-5439-49df-b2a3-751b7070ed7f",
   "metadata": {},
   "outputs": [],
   "source": [
    "text = '1,2,3,4,5,6,7'\n",
    "re = ''\n",
    "for n in text:\n",
    "    if n != ',' and int(n) % 2 == 0:\n",
    "        re.join(n)"
   ]
  },
  {
   "cell_type": "code",
   "execution_count": 34,
   "id": "8d6bd294-6db1-47d2-ad4a-8eeb8bc3724f",
   "metadata": {},
   "outputs": [
    {
     "name": "stdout",
     "output_type": "stream",
     "text": [
      "246\n"
     ]
    }
   ],
   "source": [
    "text = '1,2,3,4,5,6,7'\n",
    "re = ''\n",
    "for n in text.split(','):\n",
    "    if int(n) % 2 == 0:\n",
    "        re += n\n",
    "print(re)  # 输出：246"
   ]
  },
  {
   "cell_type": "code",
   "execution_count": 36,
   "id": "7b982a33-c45d-4d04-9b20-38268b6b11bd",
   "metadata": {},
   "outputs": [],
   "source": [
    "re = ','.join(n for n in text.split(',') if int(n) % 2 == 0)"
   ]
  },
  {
   "cell_type": "code",
   "execution_count": 40,
   "id": "dc1e3d4c-7330-4d7d-88a7-1b982948b93a",
   "metadata": {},
   "outputs": [],
   "source": [
    "text = \"2,3,3,3,4,5,5,6,7,8\"\n",
    "nums = text.split(',')\n",
    "result = []\n",
    "\n",
    "for i, n in enumerate(nums):\n",
    "    pos = i + 1  \n",
    "    if pos % 2 == 0:  \n",
    "        result.append(n)\n",
    "    elif i > 0 and n == nums[i - 1]:  \n",
    "        result.append(n)"
   ]
  },
  {
   "cell_type": "code",
   "execution_count": 41,
   "id": "1905a483-48ff-4003-9498-7fba1d217fe1",
   "metadata": {},
   "outputs": [
    {
     "data": {
      "text/plain": [
       "['3', '3', '3', '5', '5', '6', '8']"
      ]
     },
     "execution_count": 41,
     "metadata": {},
     "output_type": "execute_result"
    }
   ],
   "source": [
    "result"
   ]
  },
  {
   "cell_type": "code",
   "execution_count": null,
   "id": "1670936a-2da9-4ea5-9ac3-d710091eb6a5",
   "metadata": {},
   "outputs": [],
   "source": [
    "def solution(csv):\n",
    "    lines = csv.strip().split('\\n')\n",
    "    headers = lines[0].split(',')\n",
    "    num_subjects = len(headers)\n",
    "\n",
    "    # 初始化每科总分\n",
    "    totals = [0] * num_subjects\n",
    "    count = 0\n",
    "\n",
    "    for line in lines[1:]:\n",
    "        scores = list(map(int, line.split(',')))\n",
    "        for i in range(num_subjects):\n",
    "            totals[i] += scores[i]\n",
    "        count += 1\n",
    "\n",
    "    # 计算平均分并保留一位小数\n",
    "    averages = [round(tot / count + 1e-8, 1) for tot in totals]  # 防止浮点误差\n",
    "\n",
    "    # 构造输出\n",
    "    result = ','.join(headers) + '\\n'\n",
    "    result += ','.join(str(avg) for avg in averages) + '\\n'"
   ]
  },
  {
   "cell_type": "code",
   "execution_count": 42,
   "id": "cd1162c4-e8e8-4bcb-9505-850d4c740307",
   "metadata": {},
   "outputs": [
    {
     "data": {
      "text/plain": [
       "81"
      ]
     },
     "execution_count": 42,
     "metadata": {},
     "output_type": "execute_result"
    }
   ],
   "source": [
    "int(81.5)"
   ]
  },
  {
   "cell_type": "code",
   "execution_count": 43,
   "id": "c77ac17b-8a00-4437-8d6f-3fa3d2d84a6a",
   "metadata": {},
   "outputs": [
    {
     "data": {
      "text/plain": [
       "82"
      ]
     },
     "execution_count": 43,
     "metadata": {},
     "output_type": "execute_result"
    }
   ],
   "source": [
    "round(81.5)"
   ]
  },
  {
   "cell_type": "code",
   "execution_count": null,
   "id": "502d6b4a-846c-4ed8-a4fb-215b10844e46",
   "metadata": {},
   "outputs": [],
   "source": []
  }
 ],
 "metadata": {
  "kernelspec": {
   "display_name": "Python 3 (ipykernel)",
   "language": "python",
   "name": "python3"
  },
  "language_info": {
   "codemirror_mode": {
    "name": "ipython",
    "version": 3
   },
   "file_extension": ".py",
   "mimetype": "text/x-python",
   "name": "python",
   "nbconvert_exporter": "python",
   "pygments_lexer": "ipython3",
   "version": "3.9.18"
  }
 },
 "nbformat": 4,
 "nbformat_minor": 5
}
