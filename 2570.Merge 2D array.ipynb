{
 "cells": [
  {
   "cell_type": "markdown",
   "id": "d5540bba-12e3-47eb-a6a6-5b4f5e967b0a",
   "metadata": {},
   "source": [
    "nums1 = [[1,2],[2,3],[4,5]], nums2 = [[1,4],[3,2],[4,1]]\n",
    "Output: [[1,6],[2,3],[3,2],[4,6]]"
   ]
  },
  {
   "cell_type": "code",
   "execution_count": 1,
   "id": "c7c24a70-e95f-4ebe-b64c-8df28a9faf75",
   "metadata": {},
   "outputs": [],
   "source": [
    "class Solution(object):\n",
    "    def mergeArrays(self, nums1, nums2):\n",
    "        \"\"\"\n",
    "        :type nums1: List[List[int]]\n",
    "        :type nums2: List[List[int]]\n",
    "        :rtype: List[List[int]]\n",
    "        \"\"\"\n",
    "        "
   ]
  },
  {
   "cell_type": "code",
   "execution_count": null,
   "id": "58417e6d-9319-4f03-a9c7-57d24d06c869",
   "metadata": {},
   "outputs": [],
   "source": [
    "nums1_m = {}\n",
    "nums1 = [[1,2],[2,3],[4,5]]\n",
    "\n",
    "nums2_m = {}\n",
    "nums2 = [[1,4],[3,2],[4,1]]"
   ]
  },
  {
   "cell_type": "code",
   "execution_count": null,
   "id": "6122979d-86e4-4a8d-880f-3ea6a060f93b",
   "metadata": {},
   "outputs": [],
   "source": [
    "for i in nums1:\n",
    "    nums1_m[str(i[0])]=i[1]"
   ]
  },
  {
   "cell_type": "code",
   "execution_count": null,
   "id": "d681dea4-45ac-46d9-9f07-9f4b601bd081",
   "metadata": {},
   "outputs": [],
   "source": [
    "for i in nums2:\n",
    "    nums2_m[str(i[0])]=i[1]"
   ]
  },
  {
   "cell_type": "code",
   "execution_count": null,
   "id": "73a123ea-8db7-49ac-bc7e-6444ac220b46",
   "metadata": {},
   "outputs": [
    {
     "data": {
      "text/plain": [
       "{'1': 2, '2': 3, '4': 5}"
      ]
     },
     "execution_count": 23,
     "metadata": {},
     "output_type": "execute_result"
    }
   ],
   "source": [
    "nums1_m"
   ]
  },
  {
   "cell_type": "code",
   "execution_count": null,
   "id": "f01a2c02-8d08-482b-9470-64faf214c5ed",
   "metadata": {},
   "outputs": [
    {
     "data": {
      "text/plain": [
       "{'1': 4, '3': 2, '4': 1}"
      ]
     },
     "execution_count": 24,
     "metadata": {},
     "output_type": "execute_result"
    }
   ],
   "source": [
    "nums2_m"
   ]
  },
  {
   "cell_type": "code",
   "execution_count": 72,
   "id": "96e578c9-077b-437b-9ff5-9adb9af066d2",
   "metadata": {},
   "outputs": [],
   "source": [
    "value_list = []\n",
    "# 获取所有唯一键，并转换为整数以便排序\n",
    "all_ids = set(nums1_m.keys()).union(nums2_m.keys())\n",
    "all_ids = sorted(int(id) for id in all_ids)  # 确保按数值排序\n",
    "\n",
    "for id in all_ids:\n",
    "    str_id = str(id)  # 转回字符串用于字典查询（假设原字典键是字符串）\n",
    "    total = 0\n",
    "    if str_id in nums1_m:\n",
    "        total += int(nums1_m[str_id])\n",
    "    if str_id in nums2_m:\n",
    "        total += int(nums2_m[str_id])\n",
    "    value_list.append([id, total])"
   ]
  }
 ],
 "metadata": {
  "kernelspec": {
   "display_name": "Python 3 (ipykernel)",
   "language": "python",
   "name": "python3"
  },
  "language_info": {
   "codemirror_mode": {
    "name": "ipython",
    "version": 3
   },
   "file_extension": ".py",
   "mimetype": "text/x-python",
   "name": "python",
   "nbconvert_exporter": "python",
   "pygments_lexer": "ipython3",
   "version": "3.7.11"
  }
 },
 "nbformat": 4,
 "nbformat_minor": 5
}
