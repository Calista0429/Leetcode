{
 "cells": [
  {
   "cell_type": "code",
   "execution_count": 24,
   "id": "b599a385-0ec5-48fb-9253-d7d15c3d4b31",
   "metadata": {
    "tags": []
   },
   "outputs": [],
   "source": [
    "columnNumber = 2147483647"
   ]
  },
  {
   "cell_type": "code",
   "execution_count": 41,
   "id": "6f126231-8d09-4b8e-9bfe-71ecd9d0e94f",
   "metadata": {
    "tags": []
   },
   "outputs": [
    {
     "name": "stdout",
     "output_type": "stream",
     "text": [
      "FXSHRXW\n"
     ]
    }
   ],
   "source": [
    "res = \"\"\n",
    "columnNumber = 2147483647\n",
    "while columnNumber > 0:\n",
    "    columnNumber -= 1\n",
    "    res = chr((columnNumber % 26) + ord(\"A\")) + res\n",
    "    columnNumber //= 26\n",
    "print(res)"
   ]
  },
  {
   "cell_type": "code",
   "execution_count": 51,
   "id": "5a7df0f8-41f3-450a-b4ea-41d5f91cd6d4",
   "metadata": {
    "tags": []
   },
   "outputs": [
    {
     "data": {
      "text/plain": [
       "2"
      ]
     },
     "execution_count": 51,
     "metadata": {},
     "output_type": "execute_result"
    }
   ],
   "source": [
    "nums = [1,2,3,4,1]\n",
    "nums.count(1)"
   ]
  },
  {
   "cell_type": "code",
   "execution_count": 52,
   "id": "0f28bc44-a435-4803-98cb-89452fbbff5a",
   "metadata": {
    "tags": []
   },
   "outputs": [
    {
     "data": {
      "text/plain": [
       "{1, 2, 3, 4}"
      ]
     },
     "execution_count": 52,
     "metadata": {},
     "output_type": "execute_result"
    }
   ],
   "source": [
    "numset = set(nums)\n",
    "numset"
   ]
  },
  {
   "cell_type": "code",
   "execution_count": 54,
   "id": "e26694f0-750f-4725-b91f-37639dcdf6c5",
   "metadata": {
    "tags": []
   },
   "outputs": [
    {
     "data": {
      "text/plain": [
       "1"
      ]
     },
     "execution_count": 54,
     "metadata": {},
     "output_type": "execute_result"
    }
   ],
   "source": [
    "ord(\"A\") - 64"
   ]
  },
  {
   "cell_type": "code",
   "execution_count": 75,
   "id": "bdb0a72f-386e-4e8e-bcdb-63aff5a055fd",
   "metadata": {
    "tags": []
   },
   "outputs": [],
   "source": [
    "columnTitle = \"FXSHRXW\"\n",
    "res = 0\n",
    "for char in columnTitle:\n",
    "    res = res * 26 + (ord(char) - ord(\"A\") + 1)"
   ]
  },
  {
   "cell_type": "code",
   "execution_count": 76,
   "id": "20758273-e314-4f3b-8ce9-f0af793160e2",
   "metadata": {
    "tags": []
   },
   "outputs": [
    {
     "data": {
      "text/plain": [
       "2147483647"
      ]
     },
     "execution_count": 76,
     "metadata": {},
     "output_type": "execute_result"
    }
   ],
   "source": [
    "res"
   ]
  },
  {
   "cell_type": "code",
   "execution_count": null,
   "id": "d9658e27-32a9-4805-8612-6176e2310222",
   "metadata": {},
   "outputs": [],
   "source": []
  }
 ],
 "metadata": {
  "kernelspec": {
   "display_name": "Python 3 (ipykernel)",
   "language": "python",
   "name": "python3"
  },
  "language_info": {
   "codemirror_mode": {
    "name": "ipython",
    "version": 3
   },
   "file_extension": ".py",
   "mimetype": "text/x-python",
   "name": "python",
   "nbconvert_exporter": "python",
   "pygments_lexer": "ipython3",
   "version": "3.7.11"
  }
 },
 "nbformat": 4,
 "nbformat_minor": 5
}
