{
 "cells": [
  {
   "cell_type": "code",
   "execution_count": 37,
   "id": "cc6bc728-31a4-4d09-9787-2438aa88219e",
   "metadata": {
    "tags": []
   },
   "outputs": [
    {
     "name": "stdout",
     "output_type": "stream",
     "text": [
      "[1, 2, 3, 4, 5, 6, 7]\n"
     ]
    }
   ],
   "source": [
    "nums = [i for i in range(1,8)]\n",
    "k = 3\n",
    "print(nums)"
   ]
  },
  {
   "cell_type": "markdown",
   "id": "b7825ad4-6d93-408c-8c56-8907fde066ac",
   "metadata": {},
   "source": [
    "### Solution A"
   ]
  },
  {
   "cell_type": "code",
   "execution_count": 16,
   "id": "06055915-de1b-4f78-91c2-2679492dc379",
   "metadata": {
    "tags": []
   },
   "outputs": [
    {
     "name": "stdout",
     "output_type": "stream",
     "text": [
      "[0, 0, 1, 0, 0, 0, 0]\n",
      "[0, 0, 1, 2, 0, 0, 0]\n",
      "[0, 0, 1, 2, 3, 0, 0]\n",
      "[0, 0, 1, 2, 3, 4, 0]\n",
      "[0, 0, 1, 2, 3, 4, 5]\n",
      "[6, 0, 1, 2, 3, 4, 5]\n",
      "[6, 7, 1, 2, 3, 4, 5]\n"
     ]
    }
   ],
   "source": [
    "n = len(nums)\n",
    "# k = k % n\n",
    "rotated = [0] * n\n",
    "for i in range(n):\n",
    "    rotated[(i + k) % n] = nums[i]\n",
    "    print(rotated)"
   ]
  },
  {
   "cell_type": "markdown",
   "id": "9dbcc058-9066-4a1e-9a56-c682df508425",
   "metadata": {},
   "source": [
    "### Solution B"
   ]
  },
  {
   "cell_type": "code",
   "execution_count": 23,
   "id": "2a0711c3-e593-4f8e-9c1b-c7fe6b3d65a1",
   "metadata": {
    "tags": []
   },
   "outputs": [],
   "source": [
    "if k != 0:\n",
    "    nums[:k], nums[k:] = nums[-k:], nums[:-k]"
   ]
  },
  {
   "cell_type": "code",
   "execution_count": 24,
   "id": "c498fcbd-d5d7-412f-921a-0df1cd4f076e",
   "metadata": {
    "tags": []
   },
   "outputs": [
    {
     "name": "stdout",
     "output_type": "stream",
     "text": [
      "[5, 6, 7, 1, 2, 3, 4]\n"
     ]
    }
   ],
   "source": [
    "print(nums)"
   ]
  },
  {
   "cell_type": "markdown",
   "id": "49d068b9-2fa0-40aa-b322-e66e03f5f278",
   "metadata": {},
   "source": [
    "### Solution C"
   ]
  },
  {
   "cell_type": "code",
   "execution_count": 38,
   "id": "8e0e6f79-8b44-4bbf-a405-0e4b7c42c613",
   "metadata": {
    "tags": []
   },
   "outputs": [],
   "source": [
    "n = len(nums)\n",
    "k %= n\n",
    "def reverse(left, right):\n",
    "    while left < right:\n",
    "        nums[left], nums[right] = nums[right], nums[left]\n",
    "        left += 1\n",
    "        right -= 1\n",
    "        \n",
    "reverse(0,n - 1)\n",
    "reverse(0, k - 1)\n",
    "reverse(k, n - 1)"
   ]
  },
  {
   "cell_type": "markdown",
   "id": "8a7463be-07dd-4704-a9e0-b532722f00e8",
   "metadata": {},
   "source": [
    "### Solution D"
   ]
  },
  {
   "cell_type": "code",
   "execution_count": 51,
   "id": "67cb9c70-953a-4523-b312-472ce096a852",
   "metadata": {
    "tags": []
   },
   "outputs": [],
   "source": [
    "nums = [i for i in range(1,8)]\n",
    "nums.reverse()\n",
    "nums[:k] = reversed(nums[:k])\n",
    "nums[k:] = reversed(nums[k:])"
   ]
  },
  {
   "cell_type": "code",
   "execution_count": 52,
   "id": "878d3072-bb92-4c1c-849f-2d39454aa3cd",
   "metadata": {
    "tags": []
   },
   "outputs": [
    {
     "data": {
      "text/plain": [
       "[5, 6, 7, 1, 2, 3, 4]"
      ]
     },
     "execution_count": 52,
     "metadata": {},
     "output_type": "execute_result"
    }
   ],
   "source": [
    "nums"
   ]
  },
  {
   "cell_type": "code",
   "execution_count": 54,
   "id": "d5f80be1-1117-4f4c-be48-353518865c37",
   "metadata": {
    "tags": []
   },
   "outputs": [
    {
     "name": "stdout",
     "output_type": "stream",
     "text": [
      "CPU times: user 7 µs, sys: 14 µs, total: 21 µs\n",
      "Wall time: 24.1 µs\n"
     ]
    },
    {
     "data": {
      "text/plain": [
       "range(0, 1000000)"
      ]
     },
     "execution_count": 54,
     "metadata": {},
     "output_type": "execute_result"
    }
   ],
   "source": [
    "%time range(1000000)"
   ]
  },
  {
   "cell_type": "code",
   "execution_count": 56,
   "id": "405163db-739c-45f9-a806-acbef17d01ab",
   "metadata": {
    "tags": []
   },
   "outputs": [
    {
     "name": "stdout",
     "output_type": "stream",
     "text": [
      "CPU times: user 43.3 ms, sys: 26.1 ms, total: 69.3 ms\n",
      "Wall time: 75.9 ms\n"
     ]
    }
   ],
   "source": [
    "%time nums=[i for i in range(1000000)]"
   ]
  }
 ],
 "metadata": {
  "kernelspec": {
   "display_name": "Python 3 (ipykernel)",
   "language": "python",
   "name": "python3"
  },
  "language_info": {
   "codemirror_mode": {
    "name": "ipython",
    "version": 3
   },
   "file_extension": ".py",
   "mimetype": "text/x-python",
   "name": "python",
   "nbconvert_exporter": "python",
   "pygments_lexer": "ipython3",
   "version": "3.7.11"
  }
 },
 "nbformat": 4,
 "nbformat_minor": 5
}
