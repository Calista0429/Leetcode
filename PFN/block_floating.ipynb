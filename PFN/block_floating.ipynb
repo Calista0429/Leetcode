{
 "cells": [
  {
   "cell_type": "code",
   "execution_count": 1,
   "id": "b9a68dfb-dd65-40f0-a06a-16bb9c3f79aa",
   "metadata": {
    "tags": []
   },
   "outputs": [
    {
     "name": "stdout",
     "output_type": "stream",
     "text": [
      "Input:\n",
      "0 10000011 11010000000000000000000\n",
      "1 10001000 11010000000000000000000\n",
      "1 10000000 11010000000000000000000\n",
      "0 00000001 11010000000000000000000\n",
      "\n",
      "Output:\n",
      "0 10001000 00000111010000000000000\n",
      "1 10001000 11101000000000000000000\n",
      "1 10001000 00000000111010000000000\n",
      "0 10001000 00000000000000000000000\n"
     ]
    }
   ],
   "source": [
    "# Example of Block Floating Exponent Unification in Jupyter\n",
    "\n",
    "# 1) Define the example inputs exactly as given:\n",
    "example_lines = [\n",
    "    \"0 10000011 11010000000000000000000\",\n",
    "    \"1 10001000 11010000000000000000000\",\n",
    "    \"1 10000000 11010000000000000000000\",\n",
    "    \"0 00000001 11010000000000000000000\"\n",
    "]\n",
    "\n",
    "# 2) Block-floating processing function\n",
    "def process_block_floating(lines):\n",
    "    \"\"\"\n",
    "    lines: list of strings, each \"sign exp mantissa\"\n",
    "    returns: list of transformed strings \"sign exp mantissa\"\n",
    "    \"\"\"\n",
    "    # Parse inputs\n",
    "    inputs = []\n",
    "    for line in lines:\n",
    "        s_str, e_str, m_str = line.split()\n",
    "        inputs.append((s_str, int(e_str, 2), int(m_str, 2)))\n",
    "\n",
    "    # Unify exponent to the maximum\n",
    "    _, exponents, _ = zip(*inputs)\n",
    "    E_max = max(exponents)\n",
    "    E_max_bin = format(E_max, '08b')\n",
    "\n",
    "    # Process each\n",
    "    outputs = []\n",
    "    for sign_str, e_i, m_i in inputs:\n",
    "        d = E_max - e_i\n",
    "        numerator = (1 << 23) + m_i     # include hidden 1\n",
    "        shift = d + 1                   # total right shift\n",
    "        q, r = divmod(numerator, 1 << shift)\n",
    "\n",
    "        # Round: if remainder*2 > divisor, round up; ties go to zero (keep q)\n",
    "        if r * 2 > (1 << shift):\n",
    "            m_out = q + 1\n",
    "        else:\n",
    "            m_out = q\n",
    "\n",
    "        out_line = f\"{sign_str} {E_max_bin} {format(m_out, '023b')}\"\n",
    "        outputs.append(out_line)\n",
    "\n",
    "    return outputs\n",
    "\n",
    "# 3) Run and display\n",
    "output_lines = process_block_floating(example_lines)\n",
    "print(\"Input:\")\n",
    "print(\"\\n\".join(example_lines))\n",
    "print(\"\\nOutput:\")\n",
    "print(\"\\n\".join(output_lines))"
   ]
  },
  {
   "cell_type": "code",
   "execution_count": 2,
   "id": "e1254072-867e-4e72-b301-f7e4deb38ee6",
   "metadata": {
    "tags": []
   },
   "outputs": [
    {
     "ename": "NameError",
     "evalue": "name 'sys' is not defined",
     "output_type": "error",
     "traceback": [
      "\u001b[0;31m---------------------------------------------------------------------------\u001b[0m",
      "\u001b[0;31mNameError\u001b[0m                                 Traceback (most recent call last)",
      "\u001b[0;32m/var/folders/1d/2gn2dw2s2cldfydsdmqgjtcc0000gn/T/ipykernel_75812/1490747599.py\u001b[0m in \u001b[0;36m<module>\u001b[0;34m\u001b[0m\n\u001b[1;32m     26\u001b[0m \u001b[0;34m\u001b[0m\u001b[0m\n\u001b[1;32m     27\u001b[0m \u001b[0;32mif\u001b[0m \u001b[0m__name__\u001b[0m \u001b[0;34m==\u001b[0m \u001b[0;34m'__main__'\u001b[0m\u001b[0;34m:\u001b[0m\u001b[0;34m\u001b[0m\u001b[0;34m\u001b[0m\u001b[0m\n\u001b[0;32m---> 28\u001b[0;31m     \u001b[0mlines\u001b[0m \u001b[0;34m=\u001b[0m \u001b[0;34m[\u001b[0m\u001b[0mline\u001b[0m\u001b[0;34m.\u001b[0m\u001b[0mrstrip\u001b[0m\u001b[0;34m(\u001b[0m\u001b[0;34m'\\n'\u001b[0m\u001b[0;34m)\u001b[0m \u001b[0;32mfor\u001b[0m \u001b[0mline\u001b[0m \u001b[0;32min\u001b[0m \u001b[0msys\u001b[0m\u001b[0;34m.\u001b[0m\u001b[0mstdin\u001b[0m\u001b[0;34m]\u001b[0m\u001b[0;34m\u001b[0m\u001b[0;34m\u001b[0m\u001b[0m\n\u001b[0m\u001b[1;32m     29\u001b[0m     \u001b[0mmain\u001b[0m\u001b[0;34m(\u001b[0m\u001b[0mlines\u001b[0m\u001b[0;34m)\u001b[0m\u001b[0;34m\u001b[0m\u001b[0;34m\u001b[0m\u001b[0m\n",
      "\u001b[0;31mNameError\u001b[0m: name 'sys' is not defined"
     ]
    }
   ],
   "source": [
    "def main(lines):\n",
    "    \"\"\"\n",
    "    parameter\n",
    "    \"\"\"\n",
    "    # Read exactly 4 input lines, each containing: sign, exponent, mantissa\n",
    "    entries = [line.split() for line in lines[:4]]\n",
    "    signs     = [e[0] for e in entries]\n",
    "    exponents = [int(e[1], 2) for e in entries]\n",
    "    mantissas = [int(e[2], 2) for e in entries]\n",
    "\n",
    "    # Find the maximum exponent among the four and its binary form\n",
    "    E_max = max(exponents)\n",
    "    e_out = format(E_max, '08b')\n",
    "\n",
    "    # For each float, align its mantissa to E_max by simple right-shift\n",
    "    for sign, e_i, m_i in zip(signs, exponents, mantissas):\n",
    "        d = E_max - e_i               # exponent difference (>= 0)\n",
    "        numerator = (1 << 23) + m_i   # add the hidden leading 1\n",
    "        shift = d + 1                 # total right-shift amount\n",
    "\n",
    "        # Align mantissa by floor division (bit‐shift)\n",
    "        m_out = numerator >> shift\n",
    "\n",
    "        \n",
    "        print(f\"{sign} {e_out} {m_out:023b}\")\n",
    "\n",
    "if __name__ == '__main__':\n",
    "    lines = [line.rstrip('\\n') for line in sys.stdin]\n",
    "    main(lines)"
   ]
  },
  {
   "cell_type": "code",
   "execution_count": 6,
   "id": "c2f6bf15-65ae-45f2-9799-3c84c745238f",
   "metadata": {
    "tags": []
   },
   "outputs": [],
   "source": [
    "example_lines = [\n",
    "    \"0 10000011 11010000000000000000000\",\n",
    "    \"1 10001000 11010000000000000000000\",\n",
    "    \"1 10000000 11010000000000000000000\",\n",
    "    \"0 00000001 11010000000000000000000\"\n",
    "]\n",
    "entries = [line.split() for line in example_lines[:4]]\n",
    "signs     = [e[0] for e in entries]\n",
    "exponents = [int(e[1], 2) for e in entries]\n",
    "mantissas = [int(e[2], 2) for e in entries]"
   ]
  },
  {
   "cell_type": "code",
   "execution_count": 7,
   "id": "5f1cea87-8ec8-43f0-bd53-812addac24ba",
   "metadata": {
    "tags": []
   },
   "outputs": [
    {
     "data": {
      "text/plain": [
       "[['0', '10000011', '11010000000000000000000'],\n",
       " ['1', '10001000', '11010000000000000000000'],\n",
       " ['1', '10000000', '11010000000000000000000'],\n",
       " ['0', '00000001', '11010000000000000000000']]"
      ]
     },
     "execution_count": 7,
     "metadata": {},
     "output_type": "execute_result"
    }
   ],
   "source": [
    "entries"
   ]
  },
  {
   "cell_type": "code",
   "execution_count": 8,
   "id": "ad59d7af-7c88-4381-82c5-63933e2613c6",
   "metadata": {
    "tags": []
   },
   "outputs": [
    {
     "name": "stdout",
     "output_type": "stream",
     "text": [
      "0 10001000 00000111010000000000000\n",
      "1 10001000 11101000000000000000000\n",
      "1 10001000 00000000111010000000000\n",
      "0 10001000 00000000000000000000000\n"
     ]
    }
   ],
   "source": [
    "# Find the maximum exponent among the four and its binary form\n",
    "E_max = max(exponents)\n",
    "e_out = format(E_max, '08b')\n",
    "\n",
    "# For each float, align its mantissa to E_max by simple right-shift\n",
    "for sign, e_i, m_i in zip(signs, exponents, mantissas):\n",
    "    d = E_max - e_i               # exponent difference (>= 0)\n",
    "    numerator = (1 << 23) + m_i   # add the hidden leading 1\n",
    "    shift = d + 1                 # total right-shift amount\n",
    "\n",
    "    # Align mantissa by floor division (bit‐shift)\n",
    "    m_out = numerator >> shift\n",
    "\n",
    "\n",
    "    print(f\"{sign} {e_out} {m_out:023b}\")"
   ]
  },
  {
   "cell_type": "code",
   "execution_count": null,
   "id": "2b5b5b8f-3fc7-4d3d-bc40-2a94e21370bd",
   "metadata": {},
   "outputs": [],
   "source": []
  },
  {
   "cell_type": "code",
   "execution_count": 11,
   "id": "a49791b3-f65d-4e98-b60a-2e60449926b9",
   "metadata": {
    "tags": []
   },
   "outputs": [
    {
     "name": "stdout",
     "output_type": "stream",
     "text": [
      "0 10001000 00000111010000000000000\n",
      "1 10001000 11101000000000000000000\n",
      "1 10001000 00000000111010000000000\n",
      "0 10001000 00000000000000000000000\n"
     ]
    }
   ],
   "source": [
    "E_max = max(exponents)\n",
    "e_out = format(E_max, '08b')\n",
    "\n",
    "for sign, e_i, m_i in zip(signs, exponents, mantissas):\n",
    "    d = E_max - e_i\n",
    "    numerator = (1 << 23) + m_i\n",
    "    shift = d + 1\n",
    "    m_out = numerator >> shift\n",
    "    print(f\"{sign} {e_out} {m_out:023b}\")"
   ]
  },
  {
   "cell_type": "code",
   "execution_count": null,
   "id": "7ed14973-f4ba-44b4-871d-f7a02ccc4137",
   "metadata": {},
   "outputs": [],
   "source": []
  }
 ],
 "metadata": {
  "kernelspec": {
   "display_name": "Python 3 (ipykernel)",
   "language": "python",
   "name": "python3"
  },
  "language_info": {
   "codemirror_mode": {
    "name": "ipython",
    "version": 3
   },
   "file_extension": ".py",
   "mimetype": "text/x-python",
   "name": "python",
   "nbconvert_exporter": "python",
   "pygments_lexer": "ipython3",
   "version": "3.7.11"
  }
 },
 "nbformat": 4,
 "nbformat_minor": 5
}
