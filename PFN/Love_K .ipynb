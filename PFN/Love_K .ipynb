{
 "cells": [
  {
   "cell_type": "markdown",
   "id": "a5eb6b36-9936-41b6-bbbd-1cdb9b460941",
   "metadata": {},
   "source": [
    "N: 学生人数\n",
    "M: 学科满分\n",
    "K: 目标平均分"
   ]
  },
  {
   "cell_type": "code",
   "execution_count": 2,
   "id": "6a6cc9a8-3bc9-4e35-8348-bb220ad07d1e",
   "metadata": {
    "tags": []
   },
   "outputs": [],
   "source": [
    "lines = [[3, 100, 80], [70, 100, 80]]"
   ]
  },
  {
   "cell_type": "code",
   "execution_count": 12,
   "id": "ff5e2285-62f8-42df-8de8-0cc7aa1947a7",
   "metadata": {
    "tags": []
   },
   "outputs": [],
   "source": [
    "N, M, K = 3, 100, 80\n",
    "scores = [70, 100, 80]"
   ]
  },
  {
   "cell_type": "code",
   "execution_count": 14,
   "id": "8a40ee60-08bf-4d78-a0e5-92c415717d59",
   "metadata": {
    "tags": []
   },
   "outputs": [
    {
     "name": "stdout",
     "output_type": "stream",
     "text": [
      "1\n"
     ]
    }
   ],
   "source": [
    "total_score = sum(scores)\n",
    "expect_score = K * N\n",
    "diff = total_score - expect_score\n",
    "\n",
    "#total_score = 400, expect_score = 200\n",
    "if diff > 0:\n",
    "    count = 0\n",
    "    scores.sort()\n",
    "    for score in scores:\n",
    "        # 60 -> 40 \n",
    "        need = min(diff, M - score)\n",
    "        diff -= need \n",
    "        count += 1\n",
    "        if diff <= 0:\n",
    "            break\n",
    "else:\n",
    "    count = 0\n",
    "    scores.sort(reverse=True)\n",
    "    diff = - diff\n",
    "    for score in scores:\n",
    "        need = min(diff, score)\n",
    "        diff -= need\n",
    "        count += 1\n",
    "        if diff <= 0:\n",
    "            break\n",
    "print(count)"
   ]
  },
  {
   "cell_type": "code",
   "execution_count": 19,
   "id": "47644859-dd04-496c-afc0-c76cd752ff9b",
   "metadata": {
    "tags": []
   },
   "outputs": [
    {
     "name": "stdout",
     "output_type": "stream",
     "text": [
      "1\n"
     ]
    }
   ],
   "source": [
    "cnt = [0] * (M + 1)\n",
    "for s in scores:\n",
    "    cnt[s] += 1\n",
    "    \n",
    "diff = total_score - expect_score\n",
    "if diff > 0:\n",
    "    count = 0\n",
    "    for score in range(M):\n",
    "        while cnt[score] > 0 and diff > 0:\n",
    "            need = min(diff, M - score)\n",
    "            diff -= need \n",
    "            count += 1\n",
    "            cnt[score] -= 1\n",
    "else:\n",
    "    count = 0\n",
    "    diff = - diff\n",
    "    for score in range(M, 0, -1):\n",
    "        while cnt[score] > 0 and diff > 0:\n",
    "            need = min(diff, score)\n",
    "            diff -= score\n",
    "            count += 1\n",
    "            cnt[score] -= 1\n",
    "print(count)"
   ]
  }
 ],
 "metadata": {
  "kernelspec": {
   "display_name": "Python 3 (ipykernel)",
   "language": "python",
   "name": "python3"
  },
  "language_info": {
   "codemirror_mode": {
    "name": "ipython",
    "version": 3
   },
   "file_extension": ".py",
   "mimetype": "text/x-python",
   "name": "python",
   "nbconvert_exporter": "python",
   "pygments_lexer": "ipython3",
   "version": "3.7.11"
  }
 },
 "nbformat": 4,
 "nbformat_minor": 5
}
