{
 "cells": [
  {
   "cell_type": "code",
   "execution_count": 6,
   "id": "cd08cf64-a2f4-40eb-ac25-d723b61c6645",
   "metadata": {
    "tags": []
   },
   "outputs": [
    {
     "name": "stdout",
     "output_type": "stream",
     "text": [
      "[1, 1, 2]\n"
     ]
    }
   ],
   "source": [
    "n = 2\n",
    "dp = [0 for _ in range(n+1)]\n",
    "dp[0] = 1\n",
    "dp[1] = 1\n",
    "dp[2] = 2\n",
    "\n",
    "for i in range(2, n+1):\n",
    "    dp[i] = dp[i-1] + dp[i-2]                \n",
    "    print(dp)"
   ]
  },
  {
   "cell_type": "code",
   "execution_count": 4,
   "id": "5e2a9335-76d4-48b0-b314-e29f2a302e34",
   "metadata": {
    "tags": []
   },
   "outputs": [
    {
     "data": {
      "text/plain": [
       "3"
      ]
     },
     "execution_count": 4,
     "metadata": {},
     "output_type": "execute_result"
    }
   ],
   "source": [
    "dp[i]"
   ]
  },
  {
   "cell_type": "code",
   "execution_count": 8,
   "id": "1d52429a-9665-4b06-8fca-172a1a76c0e8",
   "metadata": {
    "tags": []
   },
   "outputs": [],
   "source": [
    "prices = [7,1,5,3,6,4]\n",
    "dp = []\n",
    "profit = 0\n",
    "dp = []\n",
    "for i in range(1, len(prices)):\n",
    "    profit = -prices[i-1] + prices[i]\n",
    "    dp.append(profit)"
   ]
  },
  {
   "cell_type": "code",
   "execution_count": 9,
   "id": "b16684d3-7d82-4486-ae7d-471a2624d933",
   "metadata": {
    "tags": []
   },
   "outputs": [
    {
     "data": {
      "text/plain": [
       "[-6, 4, -2, 3, -2]"
      ]
     },
     "execution_count": 9,
     "metadata": {},
     "output_type": "execute_result"
    }
   ],
   "source": [
    "dp"
   ]
  },
  {
   "cell_type": "code",
   "execution_count": 13,
   "id": "8c088eec-3885-43a2-9934-85c5b578344e",
   "metadata": {
    "tags": []
   },
   "outputs": [
    {
     "name": "stdout",
     "output_type": "stream",
     "text": [
      "[[-7, 0], [-1, 0], [0, 0], [0, 0], [0, 0], [0, 0]]\n",
      "[[-7, 0], [-1, 0], [-1, 4], [0, 0], [0, 0], [0, 0]]\n",
      "[[-7, 0], [-1, 0], [-1, 4], [-1, 4], [0, 0], [0, 0]]\n",
      "[[-7, 0], [-1, 0], [-1, 4], [-1, 4], [-1, 5], [0, 0]]\n",
      "[[-7, 0], [-1, 0], [-1, 4], [-1, 4], [-1, 5], [-1, 5]]\n"
     ]
    }
   ],
   "source": [
    "prices = [7,1,5,3,6,4]\n",
    "dp = [[0,0] for _ in range(len(prices))]\n",
    "dp[0][0] = -prices[0]\n",
    "dp[0][1] = 0\n",
    "for i in range(1,len(prices)):\n",
    "    dp[i][0] = max(dp[i-1][0], -prices[i])\n",
    "    dp[i][1] = max(dp[i-1][1], prices[i]+dp[i-1][0])    \n",
    "    print(dp)"
   ]
  },
  {
   "cell_type": "code",
   "execution_count": 12,
   "id": "64ee39c8-f6be-442e-8ffe-68df85dc4321",
   "metadata": {
    "tags": []
   },
   "outputs": [
    {
     "data": {
      "text/plain": [
       "[[7, 0], [7, 0], [0, 0], [0, 0], [0, 0], [0, 0]]"
      ]
     },
     "execution_count": 12,
     "metadata": {},
     "output_type": "execute_result"
    }
   ],
   "source": [
    "dp"
   ]
  },
  {
   "cell_type": "code",
   "execution_count": 7,
   "id": "0a495d66-b4a4-4787-954f-ff8eef31c75f",
   "metadata": {
    "tags": []
   },
   "outputs": [
    {
     "name": "stdout",
     "output_type": "stream",
     "text": [
      ".....\n",
      ".....\n",
      "..##.\n",
      "..##.\n",
      ".....\n",
      "0.99999666\n"
     ]
    }
   ],
   "source": [
    "import sys\n",
    "import math\n",
    "from io import StringIO\n",
    "\n",
    "# 构造输入数据（你提供的 Sample Input）\n",
    "sample_input = \"\"\"5 1\n",
    "#....\n",
    ".....\n",
    "..##.\n",
    "..##.\n",
    ".....\n",
    "\"\"\"\n",
    "\n",
    "# 将输入重定向到 sys.stdin\n",
    "sys.stdin = StringIO(sample_input)\n",
    "\n",
    "# 主函数（不需要改动）\n",
    "def main():\n",
    "    input = sys.stdin.readline\n",
    "    N, P = map(int, input().split())\n",
    "    grid = [input().strip() for _ in range(N)]\n",
    "\n",
    "    # Build prefix sums of '#' → 1, '.' → 0\n",
    "    M = [[0] * (N+1) for _ in range(N+1)]\n",
    "    for i in range(N):\n",
    "        for j in range(N):\n",
    "            M[i+1][j+1] = (1 if grid[i][j]=='#' else 0)\n",
    "    for i in range(1, N+1):\n",
    "        for j in range(1, N+1):\n",
    "            M[i][j] += M[i-1][j] + M[i][j-1] - M[i-1][j-1]\n",
    "\n",
    "    def rect_sum(x1, y1, x2, y2):\n",
    "        return (M[x2][y2]\n",
    "                - M[x1-1][y2]\n",
    "                - M[x2][y1-1]\n",
    "                + M[x1-1][y1-1])\n",
    "\n",
    "    total_hash = M[N][N]\n",
    "    N2 = N*N\n",
    "    p = P / 100.0\n",
    "    log_p   = math.log(p)\n",
    "    log_1p  = math.log(1-p)\n",
    "    logN    = math.log(N)\n",
    "\n",
    "    best_score = -1e300\n",
    "    best_l = best_x = best_y = 0\n",
    "\n",
    "    # Precompute -2*log(N-l+1) for each l\n",
    "    prior_cache = [ -logN - 2*math.log(N - l + 1) if l != 0 else 0 for l in range(N+1) ]\n",
    "\n",
    "    for l in range(1, N+1):\n",
    "        l2 = l*l\n",
    "        prior = prior_cache[l]\n",
    "        for x in range(1, N-l+2):\n",
    "            x2 = x + l - 1\n",
    "            for y in range(1, N-l+2):\n",
    "                y2 = y + l - 1\n",
    "                a = rect_sum(x, y, x2, y2)\n",
    "                c = total_hash - a\n",
    "                ll = ((N2 - l2 + a - c) * log_1p\n",
    "                      + (l2 - a + c) * log_p)\n",
    "                score = ll + prior\n",
    "                if score > best_score:\n",
    "                    best_score, best_l, best_x, best_y = score, l, x, y\n",
    "\n",
    "    total = 0.0\n",
    "    for l in range(1, N+1):\n",
    "        l2 = l*l\n",
    "        prior = prior_cache[l]\n",
    "        for x in range(1, N-l+2):\n",
    "            x2 = x + l - 1\n",
    "            for y in range(1, N-l+2):\n",
    "                y2 = y + l - 1\n",
    "                a = rect_sum(x, y, x2, y2)\n",
    "                c = total_hash - a\n",
    "                ll = ((N2 - l2 + a - c) * log_1p\n",
    "                      + (l2 - a + c) * log_p)\n",
    "                total += math.exp(ll + prior - best_score)\n",
    "\n",
    "    Pmax = 1.0 / total\n",
    "\n",
    "    bx, by, bl = best_x-1, best_y-1, best_l\n",
    "    for i in range(N):\n",
    "        row = []\n",
    "        for j in range(N):\n",
    "            if bx <= i < bx+bl and by <= j < by+bl:\n",
    "                row.append('#')\n",
    "            else:\n",
    "                row.append('.')\n",
    "        print(''.join(row))\n",
    "    print(f\"{Pmax:.8f}\")\n",
    "\n",
    "# 调用主函数\n",
    "main()"
   ]
  },
  {
   "cell_type": "code",
   "execution_count": 9,
   "id": "18a60325-f3e8-43ed-9328-c1d85d2d860d",
   "metadata": {
    "tags": []
   },
   "outputs": [
    {
     "name": "stdout",
     "output_type": "stream",
     "text": [
      "Input:\n",
      "0 10000011 11010000000000000000000\n",
      "1 10001000 11010000000000000000000\n",
      "1 10000000 11010000000000000000000\n",
      "0 00000001 11010000000000000000000\n",
      "\n",
      "Output:\n",
      "0 10001000 00000111010000000000000\n",
      "1 10001000 11101000000000000000000\n",
      "1 10001000 00000000111010000000000\n",
      "0 10001000 00000000000000000000000\n"
     ]
    }
   ],
   "source": [
    "# Example of Block Floating Exponent Unification in Jupyter\n",
    "\n",
    "# 1) Define the example inputs exactly as given:\n",
    "example_lines = [\n",
    "    \"0 10000011 11010000000000000000000\",\n",
    "    \"1 10001000 11010000000000000000000\",\n",
    "    \"1 10000000 11010000000000000000000\",\n",
    "    \"0 00000001 11010000000000000000000\"\n",
    "]\n",
    "\n",
    "# 2) Block-floating processing function\n",
    "def process_block_floating(lines):\n",
    "    \"\"\"\n",
    "    lines: list of strings, each \"sign exp mantissa\"\n",
    "    returns: list of transformed strings \"sign exp mantissa\"\n",
    "    \"\"\"\n",
    "    # Parse inputs\n",
    "    inputs = []\n",
    "    for line in lines:\n",
    "        s_str, e_str, m_str = line.split()\n",
    "        inputs.append((s_str, int(e_str, 2), int(m_str, 2)))\n",
    "\n",
    "    # Unify exponent to the maximum\n",
    "    _, exponents, _ = zip(*inputs)\n",
    "    E_max = max(exponents)\n",
    "    E_max_bin = format(E_max, '08b')\n",
    "\n",
    "    # Process each\n",
    "    outputs = []\n",
    "    for sign_str, e_i, m_i in inputs:\n",
    "        d = E_max - e_i\n",
    "        numerator = (1 << 23) + m_i     # include hidden 1\n",
    "        shift = d + 1                   # total right shift\n",
    "        q, r = divmod(numerator, 1 << shift)\n",
    "\n",
    "        # Round: if remainder*2 > divisor, round up; ties go to zero (keep q)\n",
    "        if r * 2 > (1 << shift):\n",
    "            m_out = q + 1\n",
    "        else:\n",
    "            m_out = q\n",
    "\n",
    "        out_line = f\"{sign_str} {E_max_bin} {format(m_out, '023b')}\"\n",
    "        outputs.append(out_line)\n",
    "\n",
    "    return outputs\n",
    "\n",
    "# 3) Run and display\n",
    "output_lines = process_block_floating(example_lines)\n",
    "print(\"Input:\")\n",
    "print(\"\\n\".join(example_lines))\n",
    "print(\"\\nOutput:\")\n",
    "print(\"\\n\".join(output_lines))"
   ]
  },
  {
   "cell_type": "code",
   "execution_count": null,
   "id": "3f4cd703-c8bf-412d-9fa0-776a3407a3a4",
   "metadata": {},
   "outputs": [],
   "source": [
    "import sys\n",
    "import math\n",
    "\n",
    "\n",
    "def parse_input(lines):\n",
    "    \"\"\"\n",
    "    Parse the first line to get N (grid size) and P, then the next N lines to construct the grid.\n",
    "    \n",
    "    Parameters:\n",
    "     N - Size of grid cell\n",
    "     P - Noise probability in percentage (e.g., 60 means 60%).\n",
    "     grid - The final state of 2D character grid with '.'  and '#'.\n",
    "     \n",
    "    Returns:\n",
    "     N, P, grid array in the test cases\n",
    "    \"\"\"\n",
    "    \n",
    "    N, P = map(int, lines[0].split())\n",
    "    grid = [list(lines[i + 1]) for i in range(N)]\n",
    "    return N, P, grid\n",
    "\n",
    "\n",
    "def build_prefix_sum(N, grid):\n",
    "    \"\"\"\n",
    "    Build a 2D prefix sum matrix for '#' cells to enable O(1) region sum queries.\n",
    "    \n",
    "    Parameters:\n",
    "     N - Size of grid cell\n",
    "     grid - The final state of grid\n",
    "     \n",
    "    Returns:\n",
    "     2D prefix_sum array that contains values based on the '#' and '.'\n",
    "    \"\"\"\n",
    "    \n",
    "    # Create (N+1)x(N+1) zero matrix to simplify boundary conditions (1-based index)\n",
    "    prefix_sum = [[0] * (N + 1) for _ in range(N + 1)]\n",
    "\n",
    "    # Convert '#' to 1 and '.' to 0 and populate prefix_sum\n",
    "    for i in range(N):\n",
    "        for j in range(N):\n",
    "            prefix_sum[i + 1][j + 1] = 1 if grid[i][j] == '#' else 0\n",
    "\n",
    "    # Accumulate values to build 2D prefix sum\n",
    "    for i in range(1, N + 1):\n",
    "        for j in range(1, N + 1):\n",
    "            prefix_sum[i][j] += (\n",
    "                prefix_sum[i - 1][j] +\n",
    "                prefix_sum[i][j - 1] -\n",
    "                prefix_sum[i - 1][j - 1]\n",
    "            )\n",
    "    return prefix_sum\n",
    "\n",
    "\n",
    "def rect_sum(M, x1, y1, x2, y2):\n",
    "    \"\"\"\n",
    "    Query the number of '#' inside rectangle from (x1,y1) to (x2,y2) using the 2D prefix sum matrix\n",
    "    \n",
    "    Parameters:\n",
    "     M - The 2D prefix sum matrix from build_prefix_sum fuction\n",
    "     x1 - Top row corrdinate \n",
    "     y1 - Left column corrdinate\n",
    "     x2 - Bottom row corrdinate\n",
    "     y2 - Right column corrdinate\n",
    "     \n",
    "    Returns:\n",
    "     The number of '#' inside the specific rectangle\n",
    "    \"\"\"\n",
    "    \n",
    "    return M[x2][y2] - M[x1 - 1][y2] - M[x2][y1 - 1] + M[x1 - 1][y1 - 1]\n",
    "\n",
    "\n",
    "def compute_log_posterior(N, P, grid, M):\n",
    "    \"\"\"\n",
    "    Compute the log posterior probability for all possible square regions in the grid\n",
    "    and return the one with the highest posterior score using a Bayesian MAP approach.\n",
    "    \n",
    "    Parameters:\n",
    "     N - Size of the grid (grid is N x N).\n",
    "     P - Noise probability\n",
    "     grid - 2D character grid with '.'  and '#'.\n",
    "     M - 2D prefix sum matrix for '#' cells.\n",
    "    \n",
    "    Returns:\n",
    "     best_x - Row index (1-based) of the top-left corner of the best square region.\n",
    "     best_y - Column index (1-based) of the top-left corner of the best square region.\n",
    "     best_l - Side length of the best square region.\n",
    "     best_score - Maximum posterior score (log-likelihood + log-prior).\n",
    "     prior_cache - Cached prior log probabilities for each square size (indexed by side length).\n",
    "    \n",
    "    \"\"\"\n",
    "    \n",
    "    total_hash = M[N][N]          # Total number of '#' in the whole grid\n",
    "    N2 = N * N                    # Total number of cells\n",
    "    p = P / 100.0                 # Convert P to probability\n",
    "    log_p = math.log(p)           # log(p)\n",
    "    log_1p = math.log(1 - p)      # log(1-p)\n",
    "    logN = math.log(N)\n",
    "\n",
    "    best_score = -math.inf        # Initialize best score\n",
    "    best_x = best_y = best_l = 0  # To store best region's coordinates and size\n",
    "\n",
    "    # Cache prior scores to penalize large regions\n",
    "    prior_cache = [\n",
    "        -logN - 2 * math.log(N - l + 1) if l != 0 else 0\n",
    "        for l in range(N + 1)\n",
    "    ]\n",
    "\n",
    "    # Try every square region of size l x l\n",
    "    for l in range(1, N + 1):\n",
    "        l2 = l * l\n",
    "        prior = prior_cache[l]\n",
    "\n",
    "        for x in range(1, N - l + 2):\n",
    "            x2 = x + l - 1\n",
    "            for y in range(1, N - l + 2):\n",
    "                y2 = y + l - 1\n",
    "\n",
    "                a = rect_sum(M, x, y, x2, y2)     # number of '#' inside region\n",
    "                c = total_hash - a               # number of '#' outside region\n",
    "\n",
    "                # log-likelihood (how well this region explains the '#'s)\n",
    "                ll = ((N2 - l2 + a - c) * log_1p + (l2 - a + c) * log_p)\n",
    "                score = ll + prior               # posterior = likelihood + prior\n",
    "\n",
    "                # Keep the best scoring region\n",
    "                if score > best_score:\n",
    "                    best_score = score\n",
    "                    best_l = l\n",
    "                    best_x = x\n",
    "                    best_y = y\n",
    "\n",
    "    return best_x, best_y, best_l, best_score, prior_cache\n",
    "\n",
    "def compute_normalization(N, P, M, total_hash, best_score, prior_cache):\n",
    "    \n",
    "    \"\"\"\n",
    "    Compute the normalized probability of the best region via log-sum-exp trick\n",
    "    \n",
    "    This function applies softmax normalization across all possible square regions\n",
    "    to compute the posterior probability (in relative terms) of the region with the best score.\n",
    "    \n",
    "    Parameters:\n",
    "     N - Size of the grid .\n",
    "     P - Pollution probability.\n",
    "     M - 2D prefix sum matrix.\n",
    "     total_hash - Total number of '#' symbols in the entire grid.\n",
    "     best_score - The highest posterior score found among all square regions.\n",
    "     prior_cache - Cached log prior probabilities for each square size.\n",
    "\n",
    "    Returns:\n",
    "     Normalized posterior probability of the best-scoring region.\n",
    "\n",
    "    \"\"\"\n",
    "    \n",
    "    total = 0.0\n",
    "    N2 = N * N\n",
    "    p = P / 100.0\n",
    "    log_p = math.log(p)\n",
    "    log_1p = math.log(1 - p)\n",
    "\n",
    "    # Iterate over all possible square regions and compute their exp(score - best_score)\n",
    "    for l in range(1, N + 1):\n",
    "        l2 = l * l\n",
    "        prior = prior_cache[l]\n",
    "\n",
    "        for x in range(1, N - l + 2):\n",
    "            x2 = x + l - 1\n",
    "            for y in range(1, N - l + 2):\n",
    "                y2 = y + l - 1\n",
    "\n",
    "                a = rect_sum(M, x, y, x2, y2)\n",
    "                c = total_hash - a\n",
    "                ll = ((N2 - l2 + a - c) * log_1p + (l2 - a + c) * log_p)\n",
    "\n",
    "                # log-sum-exp component for softmax normalization\n",
    "                total += math.exp(ll + prior - best_score)\n",
    "\n",
    "    return 1.0 / total  # final normalized probability\n",
    "\n",
    "# Generate the output grid with '#' marking the most probable polluted region\n",
    "def generate_output_grid(N, best_x, best_y, best_l):\n",
    "    \"\"\"\n",
    "    Generate a grid marking the most probable polluted region with '#'.\n",
    "\n",
    "    This function creates a new N x N character grid where the best region is filled\n",
    "    with '#' symbols and the rest of the grid is filled with '.' symbols.\n",
    "\n",
    "    Parameters:\n",
    "     N - Size of the output grid.\n",
    "     best_x - Row index of the top-left corner of the best region.\n",
    "     best_y - Column index of the top-left corner of the best region.\n",
    "     best_l - Side length of the best square region.\n",
    "\n",
    "    Returns:\n",
    "     List of N strings, each representing one row of the output grid.\n",
    "    \"\"\"\n",
    "    bx, by, bl = best_x - 1, best_y - 1, best_l  # adjust to 0-based index\n",
    "    output = []\n",
    "\n",
    "    for i in range(N):\n",
    "        row = []\n",
    "        for j in range(N):\n",
    "            if bx <= i < bx + bl and by <= j < by + bl:\n",
    "                row.append('#')  # inside best region\n",
    "            else:\n",
    "                row.append('.')  # outside region\n",
    "        output.append(''.join(row))\n",
    "\n",
    "    return output\n",
    "\n",
    "# Main entry: parse input, run computation, and print results\n",
    "def main(lines):\n",
    "    N, P, grid = parse_input(lines)\n",
    "    M = build_prefix_sum(N, grid)\n",
    "    best_x, best_y, best_l, best_score, prior_cache = compute_log_posterior(N, P, grid, M)\n",
    "    Pmax = compute_normalization(N, P, M, M[N][N], best_score, prior_cache)\n",
    "    result_grid = generate_output_grid(N, best_x, best_y, best_l)\n",
    "\n",
    "    # Output grid\n",
    "    for row in result_grid:\n",
    "        print(row)\n",
    "\n",
    "    # Output probability (formatted to 8 decimal places)\n",
    "    print(f\"{Pmax:.8f}\")\n",
    "\n",
    "\n",
    "if __name__ == '__main__':\n",
    "    lines = [line.rstrip('\\n') for line in sys.stdin]\n",
    "    main(lines)"
   ]
  },
  {
   "cell_type": "markdown",
   "id": "d2391126-3e54-428e-b82f-559960c43134",
   "metadata": {},
   "source": [
    "\n",
    "\\begin{cases}\n",
    "1, & \\text{if } \\texttt{grid}[i][j] = \\# \\\\\n",
    "0, & \\text{if } \\texttt{grid}[i][j] = \\texttt{.}\n",
    "\\end{cases}\n"
   ]
  },
  {
   "cell_type": "code",
   "execution_count": 14,
   "id": "f5285577-6e3b-40cb-883c-a40d02093ee5",
   "metadata": {
    "tags": []
   },
   "outputs": [
    {
     "data": {
      "text/plain": [
       "0.05078125"
      ]
     },
     "execution_count": 14,
     "metadata": {},
     "output_type": "execute_result"
    }
   ],
   "source": [
    "2**4 * 1.625 / 2**9"
   ]
  },
  {
   "cell_type": "code",
   "execution_count": 15,
   "id": "bdaa7c68-246d-4d20-9458-c0e8a0e012c6",
   "metadata": {
    "tags": []
   },
   "outputs": [
    {
     "ename": "ValueError",
     "evalue": "Unknown format code 'b' for object of type 'float'",
     "output_type": "error",
     "traceback": [
      "\u001b[0;31m---------------------------------------------------------------------------\u001b[0m",
      "\u001b[0;31mValueError\u001b[0m                                Traceback (most recent call last)",
      "\u001b[0;32m/var/folders/1d/2gn2dw2s2cldfydsdmqgjtcc0000gn/T/ipykernel_74065/49297009.py\u001b[0m in \u001b[0;36m<module>\u001b[0;34m\u001b[0m\n\u001b[0;32m----> 1\u001b[0;31m \u001b[0mformat\u001b[0m\u001b[0;34m(\u001b[0m\u001b[0;36m0.05078125\u001b[0m\u001b[0;34m,\u001b[0m \u001b[0;34m'08b'\u001b[0m\u001b[0;34m)\u001b[0m\u001b[0;34m\u001b[0m\u001b[0;34m\u001b[0m\u001b[0m\n\u001b[0m",
      "\u001b[0;31mValueError\u001b[0m: Unknown format code 'b' for object of type 'float'"
     ]
    }
   ],
   "source": [
    "format(0.05078125, '08b')"
   ]
  },
  {
   "cell_type": "code",
   "execution_count": null,
   "id": "a8a9a368-768a-43c9-b335-49fa0b418b8a",
   "metadata": {},
   "outputs": [],
   "source": [
    "0 10000011 11010000000000000000000\n",
    "1 10001000 11010000000000000000000\n",
    "1 10000000 11010000000000000000000\n",
    "0 00000001 11010000000000000000000"
   ]
  },
  {
   "cell_type": "code",
   "execution_count": null,
   "id": "0e39dc19-9392-4b48-a4eb-562a70123115",
   "metadata": {},
   "outputs": [],
   "source": [
    "0 10001000 00000111010000000000000\n",
    "1 10001000 11101000000000000000000\n",
    "1 10001000 00000000111010000000000\n",
    "0 10001000 00000000000000000000000"
   ]
  },
  {
   "cell_type": "code",
   "execution_count": null,
   "id": "89f9c98d-2ebb-45d9-8f42-0c783d513c9a",
   "metadata": {},
   "outputs": [],
   "source": [
    "for sign, e_i, m_i in zip(signs, exponents, mantissas):\n",
    "    d = E_max - e_i                     # 1. 当前指数和最大指数的差值\n",
    "    numerator = (1 << 23) + m_i        # 2. 添加隐含的 '1'，构造完整尾数（24位）\n",
    "    shift = d + 1                      # 3. 因为指数差 d，尾数需要右移 d+1 位\n",
    "    m_out = numerator >> shift         # 4. 对尾数做右移，得到对齐后的新尾数"
   ]
  },
  {
   "cell_type": "code",
   "execution_count": 16,
   "id": "52cf1860-a4b3-4e00-9638-14f53332decd",
   "metadata": {
    "tags": []
   },
   "outputs": [],
   "source": [
    "exponents = [10000011,10001000]\n",
    "mantissas = [11010000000000000000000, 11010000000000000000000]"
   ]
  },
  {
   "cell_type": "code",
   "execution_count": 17,
   "id": "fc9ba375-8ec4-4fcb-8762-76eb1e4ac40b",
   "metadata": {
    "tags": []
   },
   "outputs": [],
   "source": [
    "max_E = max(exponents)"
   ]
  },
  {
   "cell_type": "code",
   "execution_count": 19,
   "id": "7a4ec417-f2f7-49c3-ad6f-bf5c9d4914fb",
   "metadata": {
    "tags": []
   },
   "outputs": [
    {
     "data": {
      "text/plain": [
       "989"
      ]
     },
     "execution_count": 19,
     "metadata": {},
     "output_type": "execute_result"
    }
   ],
   "source": [
    "max_E - exponents[0]"
   ]
  },
  {
   "cell_type": "code",
   "execution_count": 20,
   "id": "bd0ffa54-23a4-440b-ba1c-0f4c5f463b9e",
   "metadata": {
    "tags": []
   },
   "outputs": [
    {
     "data": {
      "text/plain": [
       "11010000000000008388608"
      ]
     },
     "execution_count": 20,
     "metadata": {},
     "output_type": "execute_result"
    }
   ],
   "source": [
    "(1 << 23) + 11010000000000000000000"
   ]
  },
  {
   "cell_type": "code",
   "execution_count": 21,
   "id": "18f4c530-2b7c-420e-90ff-6b46deab2857",
   "metadata": {
    "tags": []
   },
   "outputs": [
    {
     "data": {
      "text/plain": [
       "8388608"
      ]
     },
     "execution_count": 21,
     "metadata": {},
     "output_type": "execute_result"
    }
   ],
   "source": [
    "#(1 << 23) = 1000000000000000000"
   ]
  },
  {
   "cell_type": "code",
   "execution_count": 22,
   "id": "d40a9317-d6d9-45f9-96f5-d274cb8e0be2",
   "metadata": {
    "tags": []
   },
   "outputs": [
    {
     "data": {
      "text/plain": [
       "8388608"
      ]
     },
     "execution_count": 22,
     "metadata": {},
     "output_type": "execute_result"
    }
   ],
   "source": [
    "(1 << 23)"
   ]
  },
  {
   "cell_type": "code",
   "execution_count": 23,
   "id": "aa239918-459b-40e9-a75e-bf8a313fbaf7",
   "metadata": {
    "jp-MarkdownHeadingCollapsed": true,
    "tags": []
   },
   "outputs": [
    {
     "data": {
      "text/plain": [
       "990"
      ]
     },
     "execution_count": 23,
     "metadata": {},
     "output_type": "execute_result"
    }
   ],
   "source": [
    "max_E - exponents[0] + 1"
   ]
  },
  {
   "cell_type": "code",
   "execution_count": 25,
   "id": "947f45b3-baa7-4def-aa15-535a0f0510dc",
   "metadata": {
    "tags": []
   },
   "outputs": [],
   "source": [
    "numerator = (1 << 23) + 11010000000000000000000"
   ]
  },
  {
   "cell_type": "code",
   "execution_count": 26,
   "id": "686e7984-cd97-4a4a-8426-acf2d570954a",
   "metadata": {
    "tags": []
   },
   "outputs": [],
   "source": [
    "shift = max_E - exponents[0] + 1"
   ]
  },
  {
   "cell_type": "code",
   "execution_count": 27,
   "id": "03114e1e-f4d7-49ae-895f-54ecbbbcc7d4",
   "metadata": {
    "tags": []
   },
   "outputs": [],
   "source": [
    "m_out = numerator >> shift"
   ]
  },
  {
   "cell_type": "code",
   "execution_count": 48,
   "id": "acc5122e-c755-4056-9be5-648533133afd",
   "metadata": {
    "tags": []
   },
   "outputs": [
    {
     "data": {
      "text/plain": [
       "'100101010011011010011100011001101010000101000110110100100000000000000000'"
      ]
     },
     "execution_count": 48,
     "metadata": {},
     "output_type": "execute_result"
    }
   ],
   "source": [
    "format(2752500000000002097152,'023b')"
   ]
  },
  {
   "cell_type": "code",
   "execution_count": null,
   "id": "b1b964ac-3485-4e5b-a2e2-02d8f91bfe58",
   "metadata": {},
   "outputs": [],
   "source": [
    "01110100000000000000000\n",
    "00000111010000000000000"
   ]
  },
  {
   "cell_type": "code",
   "execution_count": 51,
   "id": "31d30015-dceb-47f0-b04c-d08398254fe5",
   "metadata": {
    "tags": []
   },
   "outputs": [
    {
     "data": {
      "text/plain": [
       "11010000000000000000000"
      ]
     },
     "execution_count": 51,
     "metadata": {},
     "output_type": "execute_result"
    }
   ],
   "source": [
    "int(11010000000000000000000)"
   ]
  },
  {
   "cell_type": "code",
   "execution_count": 52,
   "id": "5ecf6569-d246-4c0c-96ac-44a2bc8113ee",
   "metadata": {
    "tags": []
   },
   "outputs": [
    {
     "data": {
      "text/plain": [
       "8388608"
      ]
     },
     "execution_count": 52,
     "metadata": {},
     "output_type": "execute_result"
    }
   ],
   "source": [
    "1 << 23"
   ]
  },
  {
   "cell_type": "code",
   "execution_count": 53,
   "id": "6c43612e-ceea-40f8-b787-3727c6e55597",
   "metadata": {
    "tags": []
   },
   "outputs": [
    {
     "name": "stdout",
     "output_type": "stream",
     "text": [
      "01110100000000000000000\n"
     ]
    }
   ],
   "source": [
    "print(f\"{3801088:023b}\")"
   ]
  },
  {
   "cell_type": "code",
   "execution_count": null,
   "id": "4bb3eb4a-eec2-414b-85b4-914efd04efc7",
   "metadata": {},
   "outputs": [],
   "source": []
  }
 ],
 "metadata": {
  "kernelspec": {
   "display_name": "Python 3 (ipykernel)",
   "language": "python",
   "name": "python3"
  },
  "language_info": {
   "codemirror_mode": {
    "name": "ipython",
    "version": 3
   },
   "file_extension": ".py",
   "mimetype": "text/x-python",
   "name": "python",
   "nbconvert_exporter": "python",
   "pygments_lexer": "ipython3",
   "version": "3.7.11"
  }
 },
 "nbformat": 4,
 "nbformat_minor": 5
}
