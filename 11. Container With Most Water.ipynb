{
 "cells": [
  {
   "cell_type": "markdown",
   "id": "bd52ccbb-2d9a-4660-ac49-102262824f74",
   "metadata": {},
   "source": [
    "### 使用双指针遍历数据"
   ]
  },
  {
   "cell_type": "code",
   "execution_count": 11,
   "id": "617cddb8-2707-4e70-a099-b3e7de57ec4f",
   "metadata": {},
   "outputs": [],
   "source": [
    "height = [1,8,6,2,5,4,8,3,7]\n",
    "ouptut = 49"
   ]
  },
  {
   "cell_type": "markdown",
   "id": "bbeb9271-6e8e-4c81-9aeb-1e0cfd54e233",
   "metadata": {},
   "source": [
    "#### 因为没有添加额外的数据结构，因此空间复杂度为o(1),并且时间复杂度为o(n),n为数组长度"
   ]
  },
  {
   "cell_type": "code",
   "execution_count": 12,
   "id": "b02af68c-c54a-413a-8461-87d8944aca64",
   "metadata": {},
   "outputs": [],
   "source": [
    "def maxArea(height):\n",
    "    #Time complexity: O(n)\n",
    "    # Space complexity: O(1)\n",
    "    max_area = 0\n",
    "    left = 0\n",
    "    right = len(height) - 1\n",
    "    while left < right:\n",
    "        max_area = max(max_area,(right-left) * min(height[left], height[right]))\n",
    "        if height[left] <= height[right]:\n",
    "            left += 1\n",
    "        else:\n",
    "            right -= 1\n",
    "    return max_area"
   ]
  },
  {
   "cell_type": "code",
   "execution_count": 13,
   "id": "f0955d3b-0fba-40d3-becc-410e2f6bd11e",
   "metadata": {},
   "outputs": [
    {
     "data": {
      "text/plain": [
       "49"
      ]
     },
     "execution_count": 13,
     "metadata": {},
     "output_type": "execute_result"
    }
   ],
   "source": [
    "maxArea(height=height)"
   ]
  }
 ],
 "metadata": {
  "kernelspec": {
   "display_name": "Python 3 (ipykernel)",
   "language": "python",
   "name": "python3"
  },
  "language_info": {
   "codemirror_mode": {
    "name": "ipython",
    "version": 3
   },
   "file_extension": ".py",
   "mimetype": "text/x-python",
   "name": "python",
   "nbconvert_exporter": "python",
   "pygments_lexer": "ipython3",
   "version": "3.9.18"
  }
 },
 "nbformat": 4,
 "nbformat_minor": 5
}
