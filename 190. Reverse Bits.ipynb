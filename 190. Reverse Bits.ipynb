{
 "cells": [
  {
   "cell_type": "code",
   "execution_count": 1,
   "id": "4255961e-9934-4ce0-95a5-b3611e66b54f",
   "metadata": {
    "tags": []
   },
   "outputs": [],
   "source": [
    "n = 43261596\n",
    "output = 964176192"
   ]
  },
  {
   "cell_type": "code",
   "execution_count": 3,
   "id": "c12a80a0-efbf-4e22-b1eb-3657f4302829",
   "metadata": {
    "tags": []
   },
   "outputs": [
    {
     "data": {
      "text/plain": [
       "'0b10100101000001111010011100'"
      ]
     },
     "execution_count": 3,
     "metadata": {},
     "output_type": "execute_result"
    }
   ],
   "source": [
    "bin_n = bin(n)\n",
    "bin_n\n",
    "string = str(bin_b)"
   ]
  },
  {
   "cell_type": "code",
   "execution_count": 19,
   "id": "6a6787bd-4def-4616-864a-3ab4c08ffab4",
   "metadata": {
    "tags": []
   },
   "outputs": [
    {
     "data": {
      "text/plain": [
       "'00111001011110000010100101000000'"
      ]
     },
     "execution_count": 19,
     "metadata": {},
     "output_type": "execute_result"
    }
   ],
   "source": [
    "string = str(bin_n).replace(\"0b\",'').zfill(32)[::-1]\n",
    "string"
   ]
  }
 ],
 "metadata": {
  "kernelspec": {
   "display_name": "Python 3 (ipykernel)",
   "language": "python",
   "name": "python3"
  },
  "language_info": {
   "codemirror_mode": {
    "name": "ipython",
    "version": 3
   },
   "file_extension": ".py",
   "mimetype": "text/x-python",
   "name": "python",
   "nbconvert_exporter": "python",
   "pygments_lexer": "ipython3",
   "version": "3.7.11"
  }
 },
 "nbformat": 4,
 "nbformat_minor": 5
}
