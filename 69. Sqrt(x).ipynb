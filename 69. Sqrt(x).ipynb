{
 "cells": [
  {
   "cell_type": "code",
   "execution_count": 1,
   "id": "32c298d7-9398-46c3-a5ab-e4d98d5f11a5",
   "metadata": {
    "tags": []
   },
   "outputs": [],
   "source": [
    "class Solution(object):\n",
    "    def mySqrt(self, x):\n",
    "        \"\"\"\n",
    "        :type x: int\n",
    "        :rtype: int\n",
    "        \"\"\"\n",
    "        left, right = 0, x\n",
    "        if x < 2:\n",
    "            return x\n",
    "        while left <= right:\n",
    "            mid = (left + right) // 2\n",
    "            square = mid * mid\n",
    "            if square == x:\n",
    "                return mid\n",
    "            elif square < x:\n",
    "                left = mid + 1 #答案在右边\n",
    "            else:\n",
    "                right = mid - 1 #答案在左边\n",
    "        \n",
    "        return right"
   ]
  }
 ],
 "metadata": {
  "kernelspec": {
   "display_name": "Python 3 (ipykernel)",
   "language": "python",
   "name": "python3"
  },
  "language_info": {
   "codemirror_mode": {
    "name": "ipython",
    "version": 3
   },
   "file_extension": ".py",
   "mimetype": "text/x-python",
   "name": "python",
   "nbconvert_exporter": "python",
   "pygments_lexer": "ipython3",
   "version": "3.9.18"
  }
 },
 "nbformat": 4,
 "nbformat_minor": 5
}
