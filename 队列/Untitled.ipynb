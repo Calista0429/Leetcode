{
 "cells": [
  {
   "cell_type": "code",
   "execution_count": 4,
   "id": "6135b584-f699-46b7-a42a-611afd79b715",
   "metadata": {
    "tags": []
   },
   "outputs": [],
   "source": [
    "import collections\n",
    "qu = collections.deque()"
   ]
  },
  {
   "cell_type": "code",
   "execution_count": 10,
   "id": "e77751af-4e02-4872-9e1f-f55637c08804",
   "metadata": {
    "tags": []
   },
   "outputs": [],
   "source": [
    "qu.append(1)\n",
    "qu.append(2)\n",
    "qu.append(3)"
   ]
  },
  {
   "cell_type": "code",
   "execution_count": 11,
   "id": "033c4475-3784-455a-8b62-4c80bd9200cb",
   "metadata": {
    "tags": []
   },
   "outputs": [
    {
     "data": {
      "text/plain": [
       "deque([2, 1, 2, 3])"
      ]
     },
     "execution_count": 11,
     "metadata": {},
     "output_type": "execute_result"
    }
   ],
   "source": [
    "qu"
   ]
  },
  {
   "cell_type": "code",
   "execution_count": 7,
   "id": "35a6747c-4f00-4ba3-a74a-9ae68b8f03ed",
   "metadata": {
    "tags": []
   },
   "outputs": [
    {
     "data": {
      "text/plain": [
       "1"
      ]
     },
     "execution_count": 7,
     "metadata": {},
     "output_type": "execute_result"
    }
   ],
   "source": [
    "qu.popleft()"
   ]
  },
  {
   "cell_type": "code",
   "execution_count": 8,
   "id": "2cd3ed95-4379-4c7c-a34b-71dd3b29b81c",
   "metadata": {
    "tags": []
   },
   "outputs": [
    {
     "data": {
      "text/plain": [
       "3"
      ]
     },
     "execution_count": 8,
     "metadata": {},
     "output_type": "execute_result"
    }
   ],
   "source": [
    "qu.pop()"
   ]
  },
  {
   "cell_type": "code",
   "execution_count": 9,
   "id": "9d36ddda-cc26-4db5-8b89-1b839308686e",
   "metadata": {
    "tags": []
   },
   "outputs": [
    {
     "data": {
      "text/plain": [
       "deque([2])"
      ]
     },
     "execution_count": 9,
     "metadata": {},
     "output_type": "execute_result"
    }
   ],
   "source": [
    "qu"
   ]
  },
  {
   "cell_type": "code",
   "execution_count": null,
   "id": "7483c688-d48e-4893-b511-48354d384d7a",
   "metadata": {},
   "outputs": [],
   "source": []
  }
 ],
 "metadata": {
  "kernelspec": {
   "display_name": "Python 3 (ipykernel)",
   "language": "python",
   "name": "python3"
  },
  "language_info": {
   "codemirror_mode": {
    "name": "ipython",
    "version": 3
   },
   "file_extension": ".py",
   "mimetype": "text/x-python",
   "name": "python",
   "nbconvert_exporter": "python",
   "pygments_lexer": "ipython3",
   "version": "3.9.18"
  }
 },
 "nbformat": 4,
 "nbformat_minor": 5
}
